{
 "cells": [
  {
   "cell_type": "markdown",
   "metadata": {
    "id": "6_gOHLUfLMTh"
   },
   "source": [
    "# Gmail data analysis\n",
    "### Exploring more than 5 years of Gmail messages\n",
    "\n",
    "I learned recently that Google allows its users to download metadata for all the messages sent and received through Gmail. This leads to interesting insights to be found in the data: *What are the most common people I have been in touch with? What days of the week or time of the day have the highest trafic?* In order to explore these and other questions I decided to request my data and perform the present analysis.\n",
    "\n",
    "The first step is [requesting the data](https://takeout.google.com/settings/takeout). There is data available for several Google services, only the Gmail data is used here. Depending on the amount of data the request can take several hours (my file is 3.03GB). Once we are notified that the file is ready to be downloaded, the data will come in a special format called `mailbox`. After importing some useful modules we can clean and explore the data."
   ]
  },
  {
   "cell_type": "markdown",
   "metadata": {
    "id": "MsT5Cz4VM774"
   },
   "source": [
    "## Requirements"
   ]
  },
  {
   "cell_type": "code",
   "execution_count": 1,
   "metadata": {
    "colab": {
     "base_uri": "https://localhost:8080/"
    },
    "executionInfo": {
     "elapsed": 6,
     "status": "ok",
     "timestamp": 1710694231242,
     "user": {
      "displayName": "Krishnan Hariharan",
      "userId": "05337437693880879682"
     },
     "user_tz": -330
    },
    "id": "BcBvva8kMlIZ",
    "outputId": "efedcb3c-5990-4ca4-e707-a73fa45964cc"
   },
   "outputs": [
    {
     "name": "stderr",
     "output_type": "stream",
     "text": [
      "C:\\Users\\vikra\\AppData\\Local\\Temp\\ipykernel_7712\\3662284269.py:12: DeprecationWarning: `set_matplotlib_formats` is deprecated since IPython 7.23, directly use `matplotlib_inline.backend_inline.set_matplotlib_formats()`\n",
      "  set_matplotlib_formats('pdf', 'svg')\n"
     ]
    }
   ],
   "source": [
    "import mailbox\n",
    "import pandas as pd\n",
    "import csv\n",
    "import unicodedata\n",
    "import matplotlib.pyplot as plt\n",
    "%matplotlib inline\n",
    "import seaborn as sns\n",
    "sns.set(rc={'figure.facecolor':'white'})\n",
    "\n",
    "# For better quality plots use\n",
    "from IPython.display import set_matplotlib_formats\n",
    "set_matplotlib_formats('pdf', 'svg')\n",
    "\n",
    "from time import time\n",
    "from collections import Counter"
   ]
  },
  {
   "cell_type": "markdown",
   "metadata": {
    "id": "mwneGCbMNJXf"
   },
   "source": [
    "## Data preprocessing\n",
    "One of the most important steps before analyzing the data is its proper cleaning, which refers to removing unnecessary data, dealing with missing values, grouping fields that appear different for the machine but that refer to the same items, etc.\n",
    "We begin by saving the data file `gmail_data.mbox` in a directory called `data` (for privacy reasons, this file is absent from the GitHub repository). The file can be loaded using the `mailbox` module"
   ]
  },
  {
   "cell_type": "code",
   "execution_count": 2,
   "metadata": {
    "colab": {
     "base_uri": "https://localhost:8080/"
    },
    "executionInfo": {
     "elapsed": 73410,
     "status": "ok",
     "timestamp": 1710692382898,
     "user": {
      "displayName": "Krishnan Hariharan",
      "userId": "05337437693880879682"
     },
     "user_tz": -330
    },
    "id": "CxZm65RlNKSV",
    "outputId": "63185fcf-f800-4756-a8eb-30cc3263d946"
   },
   "outputs": [
    {
     "name": "stdout",
     "output_type": "stream",
     "text": [
      "samples: 25439\n"
     ]
    }
   ],
   "source": [
    "file_path = 'All mail Including Spam and Trash.mbox'\n",
    "mbox = mailbox.mbox(file_path)\n",
    "print('samples:', len(mbox))"
   ]
  },
  {
   "cell_type": "markdown",
   "metadata": {
    "id": "BboaVXZIOJaP"
   },
   "source": [
    "The file contains 2748 samples. Even though these are mostly email messages, many other entry types are counted, such as drafts and chats. These can be removed by filtering by Gmail label. The file contains the following fields"
   ]
  },
  {
   "cell_type": "code",
   "execution_count": 4,
   "metadata": {
    "colab": {
     "base_uri": "https://localhost:8080/"
    },
    "executionInfo": {
     "elapsed": 547,
     "status": "ok",
     "timestamp": 1710692424563,
     "user": {
      "displayName": "Krishnan Hariharan",
      "userId": "05337437693880879682"
     },
     "user_tz": -330
    },
    "id": "E8tWM3E5OLzO",
    "outputId": "c3819b5a-b3f0-42f9-dfa7-88f839a40d4c"
   },
   "outputs": [
    {
     "name": "stdout",
     "output_type": "stream",
     "text": [
      "1 X-GM-THRID\n",
      "2 X-Gmail-Labels\n",
      "3 Delivered-To\n",
      "4 Received\n",
      "5 X-Google-Smtp-Source\n",
      "6 X-Received\n",
      "7 ARC-Seal\n",
      "8 ARC-Message-Signature\n",
      "9 ARC-Authentication-Results\n",
      "10 Return-Path\n",
      "11 Received\n",
      "12 Received-SPF\n",
      "13 Authentication-Results\n",
      "14 DKIM-Signature\n",
      "15 Received\n",
      "16 Date\n",
      "17 From\n",
      "18 Reply-To\n",
      "19 To\n",
      "20 Message-ID\n",
      "21 Subject\n",
      "22 MIME-Version\n",
      "23 Content-Type\n",
      "24 x-mid\n",
      "25 X-CSA-Complaints\n",
      "26 x-rpcampaign\n",
      "27 x-job\n",
      "28 x-orgId\n",
      "29 List-Unsubscribe-Post\n",
      "30 List-Unsubscribe\n"
     ]
    }
   ],
   "source": [
    "# print fields\n",
    "for i, key in enumerate(mbox[0].keys()):\n",
    "    print(i+1, key)"
   ]
  },
  {
   "cell_type": "markdown",
   "metadata": {
    "id": "D9C1GlEBOb9e"
   },
   "source": [
    "We find that there are several section of little interest. In order to avoid loading unnecessary information, we can extract the fields of interest and put them into a `pandas` dataframe for further processing. We are interested in the following fields: `subject`, `from`, `to`, `date`, and `Gmail-label`."
   ]
  },
  {
   "cell_type": "code",
   "execution_count": 5,
   "metadata": {
    "colab": {
     "base_uri": "https://localhost:8080/"
    },
    "executionInfo": {
     "elapsed": 118146,
     "status": "ok",
     "timestamp": 1710692572079,
     "user": {
      "displayName": "Krishnan Hariharan",
      "userId": "05337437693880879682"
     },
     "user_tz": -330
    },
    "id": "Q9hKNC_zOchv",
    "outputId": "74cc1b50-9a12-4b32-e22e-539fb318d95a"
   },
   "outputs": [
    {
     "name": "stdout",
     "output_type": "stream",
     "text": [
      "0 2000 4000 6000 8000 10000 12000 14000 16000 18000 20000 22000 24000 \n",
      "time: 0.5 min\n"
     ]
    }
   ],
   "source": [
    "t0 = time()\n",
    "subject = []\n",
    "from_ = []\n",
    "to = []\n",
    "date = []\n",
    "label = []\n",
    "for i, message in enumerate(mbox):\n",
    "    try:\n",
    "        if i%2000 == 0:\n",
    "            print(i, end=' ')\n",
    "        subject.append(message['subject'])\n",
    "        from_.append(message['from'])\n",
    "        to.append(message['to'])\n",
    "        date.append(message['date'])\n",
    "        label.append(message['X-Gmail-Labels'])\n",
    "    except:\n",
    "        print(i, end=' ')\n",
    "        print('subject', subject[i])\n",
    "        print('from', from_[i])\n",
    "        print('to', to[i])\n",
    "        print('date', date[i])\n",
    "        print('label', label[i])\n",
    "print('\\ntime: {:.1f} min'.format((time()-t0)/60))"
   ]
  },
  {
   "cell_type": "markdown",
   "metadata": {
    "id": "W8BC7fLuOpbu"
   },
   "source": [
    "\n",
    "This code appears to be a Python script designed to process email messages stored in a mailbox (mbox) format. Let's break down what each part of the code does:\n",
    "\n",
    "t0 = time(): This line records the starting time of the script's execution. The time module needs to be imported for this to work (import time).\n",
    "\n",
    "subject = [], from_ = [], to = [], date = [], label = []: These lines initialize empty lists to store information extracted from each email message. Each list corresponds to different attributes of the email messages, such as subject, sender, recipient, date, and labels.\n",
    "\n",
    "for i, message in enumerate(mbox):: This line initiates a loop that iterates through each message in the mbox object. The enumerate() function provides both the index (i) and the corresponding message (message) for each iteration.\n",
    "\n",
    "try:: This line starts a try-except block, indicating that the code inside the block will be attempted, and if any errors occur, they will be caught by the except block.\n",
    "\n",
    "if i%2000 == 0:: This line checks if the index i is divisible by 2000 with no remainder. This condition is met every 2000 messages, and when true, it prints the current index (to track progress) without moving to a new line.\n",
    "\n",
    "subject.append(message['subject']), from_.append(message['from']), to.append(message['to']), date.append(message['date']), label.append(message['X-Gmail-Labels']): These lines extract specific fields from the current email message (message) and append them to their respective lists. The fields being extracted include the subject, sender, recipient, date, and labels.\n",
    "\n",
    "except:: This block catches any exceptions that occur within the try block. If an exception occurs, it prints out the index i, along with the values of the subject, sender, recipient, date, and labels associated with that message.\n",
    "\n",
    "print('\\ntime: {:.1f} min'.format((time()-t0)/60)): This line calculates the total execution time of the script by subtracting the starting time (t0) from the current time and then dividing by 60 to convert the result to minutes. It then prints out the total time taken for execution."
   ]
  },
  {
   "cell_type": "code",
   "execution_count": 6,
   "metadata": {
    "executionInfo": {
     "elapsed": 479,
     "status": "ok",
     "timestamp": 1710692693131,
     "user": {
      "displayName": "Krishnan Hariharan",
      "userId": "05337437693880879682"
     },
     "user_tz": -330
    },
    "id": "j6NVx0G5QuoG"
   },
   "outputs": [],
   "source": [
    "df = pd.DataFrame()\n",
    "df['subject'] = subject\n",
    "df['from'] = from_\n",
    "df['to'] = to\n",
    "df['date'] = date\n",
    "df['label'] = label"
   ]
  },
  {
   "cell_type": "code",
   "execution_count": 7,
   "metadata": {
    "colab": {
     "base_uri": "https://localhost:8080/",
     "height": 206
    },
    "executionInfo": {
     "elapsed": 446,
     "status": "ok",
     "timestamp": 1710692697799,
     "user": {
      "displayName": "Krishnan Hariharan",
      "userId": "05337437693880879682"
     },
     "user_tz": -330
    },
    "id": "d2mgAwzVQwYf",
    "outputId": "be1668e4-a3ac-4836-bd24-27180585a562"
   },
   "outputs": [
    {
     "data": {
      "text/html": [
       "<div>\n",
       "<style scoped>\n",
       "    .dataframe tbody tr th:only-of-type {\n",
       "        vertical-align: middle;\n",
       "    }\n",
       "\n",
       "    .dataframe tbody tr th {\n",
       "        vertical-align: top;\n",
       "    }\n",
       "\n",
       "    .dataframe thead th {\n",
       "        text-align: right;\n",
       "    }\n",
       "</style>\n",
       "<table border=\"1\" class=\"dataframe\">\n",
       "  <thead>\n",
       "    <tr style=\"text-align: right;\">\n",
       "      <th></th>\n",
       "      <th>subject</th>\n",
       "      <th>date</th>\n",
       "      <th>label</th>\n",
       "    </tr>\n",
       "  </thead>\n",
       "  <tbody>\n",
       "    <tr>\n",
       "      <th>0</th>\n",
       "      <td>Here is a Smart Choice Loan for you</td>\n",
       "      <td>Thu, 21 Mar 2024 12:19:04 +0000 (UTC)</td>\n",
       "      <td>Spam,Category updates,Unread</td>\n",
       "    </tr>\n",
       "    <tr>\n",
       "      <th>1</th>\n",
       "      <td>78 New Auctions added in ForeclosureIndia.com ...</td>\n",
       "      <td>Fri, 22 Mar 2024 14:23:19 +0000</td>\n",
       "      <td>Spam,Category promotions,Unread</td>\n",
       "    </tr>\n",
       "    <tr>\n",
       "      <th>2</th>\n",
       "      <td>Mergers are not a please-all solution</td>\n",
       "      <td>Tue, 19 Mar 2024 09:12:03 +0000 (UTC)</td>\n",
       "      <td>Inbox,Category promotions,Unread</td>\n",
       "    </tr>\n",
       "    <tr>\n",
       "      <th>3</th>\n",
       "      <td>=?UTF-8?B?8J+UpQ==?= Unlock the Future: Groove...</td>\n",
       "      <td>Thu, 21 Mar 2024 00:57:24 +0000 (UTC)</td>\n",
       "      <td>Spam,Category promotions,Unread</td>\n",
       "    </tr>\n",
       "    <tr>\n",
       "      <th>4</th>\n",
       "      <td>Weekly Statement</td>\n",
       "      <td>Fri, 22 Mar 2024 11:28:27 +0530</td>\n",
       "      <td>Inbox,Category personal,Unread</td>\n",
       "    </tr>\n",
       "  </tbody>\n",
       "</table>\n",
       "</div>"
      ],
      "text/plain": [
       "                                             subject  \\\n",
       "0                Here is a Smart Choice Loan for you   \n",
       "1  78 New Auctions added in ForeclosureIndia.com ...   \n",
       "2              Mergers are not a please-all solution   \n",
       "3  =?UTF-8?B?8J+UpQ==?= Unlock the Future: Groove...   \n",
       "4                                   Weekly Statement   \n",
       "\n",
       "                                    date                             label  \n",
       "0  Thu, 21 Mar 2024 12:19:04 +0000 (UTC)      Spam,Category updates,Unread  \n",
       "1        Fri, 22 Mar 2024 14:23:19 +0000   Spam,Category promotions,Unread  \n",
       "2  Tue, 19 Mar 2024 09:12:03 +0000 (UTC)  Inbox,Category promotions,Unread  \n",
       "3  Thu, 21 Mar 2024 00:57:24 +0000 (UTC)   Spam,Category promotions,Unread  \n",
       "4        Fri, 22 Mar 2024 11:28:27 +0530    Inbox,Category personal,Unread  "
      ]
     },
     "execution_count": 7,
     "metadata": {},
     "output_type": "execute_result"
    }
   ],
   "source": [
    "df[['subject', 'date', 'label']].head()"
   ]
  },
  {
   "cell_type": "markdown",
   "metadata": {
    "id": "Np5SX0AMRBuM"
   },
   "source": []
  },
  {
   "cell_type": "code",
   "execution_count": 8,
   "metadata": {
    "executionInfo": {
     "elapsed": 4,
     "status": "ok",
     "timestamp": 1710692758877,
     "user": {
      "displayName": "Krishnan Hariharan",
      "userId": "05337437693880879682"
     },
     "user_tz": -330
    },
    "id": "V-BhkANfRCvy"
   },
   "outputs": [],
   "source": [
    "def remove_accents(text):\n",
    "    text = str(text)\n",
    "    nfkd_norm = unicodedata.normalize('NFKD', text)\n",
    "    text = nfkd_norm.encode('ASCII', 'ignore').decode('utf-8')\n",
    "    return text"
   ]
  },
  {
   "cell_type": "code",
   "execution_count": 9,
   "metadata": {
    "executionInfo": {
     "elapsed": 3,
     "status": "ok",
     "timestamp": 1710692760467,
     "user": {
      "displayName": "Krishnan Hariharan",
      "userId": "05337437693880879682"
     },
     "user_tz": -330
    },
    "id": "lIBkESZ0Q5lq"
   },
   "outputs": [],
   "source": [
    "df['subject'] = df['subject'].map(remove_accents)"
   ]
  },
  {
   "cell_type": "markdown",
   "metadata": {
    "id": "zM_6S3kVRIxk"
   },
   "source": [
    "After cleaning the `subject` field, we can get a general overview of the integrity of different fields"
   ]
  },
  {
   "cell_type": "code",
   "execution_count": 10,
   "metadata": {
    "colab": {
     "base_uri": "https://localhost:8080/"
    },
    "executionInfo": {
     "elapsed": 404,
     "status": "ok",
     "timestamp": 1710692762845,
     "user": {
      "displayName": "Krishnan Hariharan",
      "userId": "05337437693880879682"
     },
     "user_tz": -330
    },
    "id": "9YG2e_uHRK1P",
    "outputId": "fb20affb-5fcf-48d9-c502-1af7db862bb2"
   },
   "outputs": [
    {
     "name": "stdout",
     "output_type": "stream",
     "text": [
      "<class 'pandas.core.frame.DataFrame'>\n",
      "RangeIndex: 25439 entries, 0 to 25438\n",
      "Data columns (total 5 columns):\n",
      " #   Column   Non-Null Count  Dtype \n",
      "---  ------   --------------  ----- \n",
      " 0   subject  25439 non-null  object\n",
      " 1   from     25439 non-null  object\n",
      " 2   to       25419 non-null  object\n",
      " 3   date     25439 non-null  object\n",
      " 4   label    25439 non-null  object\n",
      "dtypes: object(5)\n",
      "memory usage: 993.8+ KB\n"
     ]
    }
   ],
   "source": [
    "df.info()"
   ]
  },
  {
   "cell_type": "markdown",
   "metadata": {
    "id": "kqMPoswHRQ5f"
   },
   "source": [
    "We find that `to`, one of the most relevant fields, contains some null entries. Which has to be removed."
   ]
  },
  {
   "cell_type": "code",
   "execution_count": 11,
   "metadata": {
    "colab": {
     "base_uri": "https://localhost:8080/"
    },
    "executionInfo": {
     "elapsed": 376,
     "status": "ok",
     "timestamp": 1710692769066,
     "user": {
      "displayName": "Krishnan Hariharan",
      "userId": "05337437693880879682"
     },
     "user_tz": -330
    },
    "id": "vy7IAqlBReSp",
    "outputId": "9a90d19d-d6a3-4b22-e98e-76242a59b7b0"
   },
   "outputs": [
    {
     "data": {
      "text/plain": [
       "20"
      ]
     },
     "execution_count": 11,
     "metadata": {},
     "output_type": "execute_result"
    }
   ],
   "source": [
    "len(df[df['to'].isnull()])"
   ]
  },
  {
   "cell_type": "code",
   "execution_count": 12,
   "metadata": {
    "colab": {
     "base_uri": "https://localhost:8080/"
    },
    "executionInfo": {
     "elapsed": 416,
     "status": "ok",
     "timestamp": 1710692773130,
     "user": {
      "displayName": "Krishnan Hariharan",
      "userId": "05337437693880879682"
     },
     "user_tz": -330
    },
    "id": "LQcNuAXUSaGV",
    "outputId": "98d0ac10-06fd-480b-8a19-049c252a6306"
   },
   "outputs": [
    {
     "data": {
      "text/plain": [
       "25419"
      ]
     },
     "execution_count": 12,
     "metadata": {},
     "output_type": "execute_result"
    }
   ],
   "source": [
    "# delete null rows\n",
    "df = df[df['to'].notnull()]\n",
    "len(df)"
   ]
  },
  {
   "cell_type": "markdown",
   "metadata": {
    "id": "qxGzF3PCTE4u"
   },
   "source": [
    "The next goal is to transform the class type: dates are given as strings"
   ]
  },
  {
   "cell_type": "code",
   "execution_count": 13,
   "metadata": {
    "colab": {
     "base_uri": "https://localhost:8080/",
     "height": 206
    },
    "executionInfo": {
     "elapsed": 381,
     "status": "ok",
     "timestamp": 1710692780078,
     "user": {
      "displayName": "Krishnan Hariharan",
      "userId": "05337437693880879682"
     },
     "user_tz": -330
    },
    "id": "0SP_C0IGTF52",
    "outputId": "ad906623-a353-47fd-b49b-1cf10777958f"
   },
   "outputs": [
    {
     "data": {
      "text/html": [
       "<div>\n",
       "<style scoped>\n",
       "    .dataframe tbody tr th:only-of-type {\n",
       "        vertical-align: middle;\n",
       "    }\n",
       "\n",
       "    .dataframe tbody tr th {\n",
       "        vertical-align: top;\n",
       "    }\n",
       "\n",
       "    .dataframe thead th {\n",
       "        text-align: right;\n",
       "    }\n",
       "</style>\n",
       "<table border=\"1\" class=\"dataframe\">\n",
       "  <thead>\n",
       "    <tr style=\"text-align: right;\">\n",
       "      <th></th>\n",
       "      <th>date</th>\n",
       "    </tr>\n",
       "  </thead>\n",
       "  <tbody>\n",
       "    <tr>\n",
       "      <th>0</th>\n",
       "      <td>Thu, 21 Mar 2024 12:19:04 +0000 (UTC)</td>\n",
       "    </tr>\n",
       "    <tr>\n",
       "      <th>1</th>\n",
       "      <td>Fri, 22 Mar 2024 14:23:19 +0000</td>\n",
       "    </tr>\n",
       "    <tr>\n",
       "      <th>2</th>\n",
       "      <td>Tue, 19 Mar 2024 09:12:03 +0000 (UTC)</td>\n",
       "    </tr>\n",
       "    <tr>\n",
       "      <th>3</th>\n",
       "      <td>Thu, 21 Mar 2024 00:57:24 +0000 (UTC)</td>\n",
       "    </tr>\n",
       "    <tr>\n",
       "      <th>4</th>\n",
       "      <td>Fri, 22 Mar 2024 11:28:27 +0530</td>\n",
       "    </tr>\n",
       "  </tbody>\n",
       "</table>\n",
       "</div>"
      ],
      "text/plain": [
       "                                    date\n",
       "0  Thu, 21 Mar 2024 12:19:04 +0000 (UTC)\n",
       "1        Fri, 22 Mar 2024 14:23:19 +0000\n",
       "2  Tue, 19 Mar 2024 09:12:03 +0000 (UTC)\n",
       "3  Thu, 21 Mar 2024 00:57:24 +0000 (UTC)\n",
       "4        Fri, 22 Mar 2024 11:28:27 +0530"
      ]
     },
     "execution_count": 13,
     "metadata": {},
     "output_type": "execute_result"
    }
   ],
   "source": [
    "df[['date']].head()"
   ]
  },
  {
   "cell_type": "markdown",
   "metadata": {
    "id": "nByBRxmTTSbq"
   },
   "source": [
    "These string dates can be converted into timestamps using the converted available for dataframes"
   ]
  },
  {
   "cell_type": "code",
   "execution_count": 17,
   "metadata": {
    "executionInfo": {
     "elapsed": 1633,
     "status": "ok",
     "timestamp": 1710692798529,
     "user": {
      "displayName": "Krishnan Hariharan",
      "userId": "05337437693880879682"
     },
     "user_tz": -330
    },
    "id": "SlndS_egTTn-"
   },
   "outputs": [],
   "source": [
    "df['date'] = df['date'].apply(lambda x: pd.to_datetime(x, errors='coerce', utc=True))"
   ]
  },
  {
   "cell_type": "markdown",
   "metadata": {
    "id": "tDlRvTqpTdvA"
   },
   "source": [
    "Some dates have unappropriate shape for conversion (these are drafts of spam messages), which can be simply removed"
   ]
  },
  {
   "cell_type": "code",
   "execution_count": 18,
   "metadata": {
    "executionInfo": {
     "elapsed": 2,
     "status": "ok",
     "timestamp": 1710692824357,
     "user": {
      "displayName": "Krishnan Hariharan",
      "userId": "05337437693880879682"
     },
     "user_tz": -330
    },
    "id": "MJIUn9CjTeLE"
   },
   "outputs": [],
   "source": [
    "df = df[df['date'].notnull()]"
   ]
  },
  {
   "cell_type": "markdown",
   "metadata": {
    "id": "wL_sBFa3Ti32"
   },
   "source": [
    "Given that the date is now a timestamp, messages can be easily sorted by date, after which the dataframe index must be reset"
   ]
  },
  {
   "cell_type": "code",
   "execution_count": 19,
   "metadata": {
    "executionInfo": {
     "elapsed": 377,
     "status": "ok",
     "timestamp": 1710692827519,
     "user": {
      "displayName": "Krishnan Hariharan",
      "userId": "05337437693880879682"
     },
     "user_tz": -330
    },
    "id": "XhkqJS3bTjVL"
   },
   "outputs": [],
   "source": [
    "df = df.sort_values(['date'], ascending=False)\n",
    "df = df.reset_index(drop=True)"
   ]
  },
  {
   "cell_type": "markdown",
   "metadata": {
    "id": "WmEaOBaLToCP"
   },
   "source": [
    "The most recent messages are the following"
   ]
  },
  {
   "cell_type": "code",
   "execution_count": 20,
   "metadata": {
    "colab": {
     "base_uri": "https://localhost:8080/",
     "height": 300
    },
    "executionInfo": {
     "elapsed": 657,
     "status": "ok",
     "timestamp": 1710692833147,
     "user": {
      "displayName": "Krishnan Hariharan",
      "userId": "05337437693880879682"
     },
     "user_tz": -330
    },
    "id": "SujiUAsaTocL",
    "outputId": "dcc89e3a-925c-48e8-efc2-3df52c0473ee"
   },
   "outputs": [
    {
     "data": {
      "text/html": [
       "<div>\n",
       "<style scoped>\n",
       "    .dataframe tbody tr th:only-of-type {\n",
       "        vertical-align: middle;\n",
       "    }\n",
       "\n",
       "    .dataframe tbody tr th {\n",
       "        vertical-align: top;\n",
       "    }\n",
       "\n",
       "    .dataframe thead th {\n",
       "        text-align: right;\n",
       "    }\n",
       "</style>\n",
       "<table border=\"1\" class=\"dataframe\">\n",
       "  <thead>\n",
       "    <tr style=\"text-align: right;\">\n",
       "      <th></th>\n",
       "      <th>subject</th>\n",
       "      <th>date</th>\n",
       "      <th>label</th>\n",
       "    </tr>\n",
       "  </thead>\n",
       "  <tbody>\n",
       "    <tr>\n",
       "      <th>0</th>\n",
       "      <td>Security alert</td>\n",
       "      <td>2024-03-23 07:44:26+00:00</td>\n",
       "      <td>Inbox,Category updates,Unread</td>\n",
       "    </tr>\n",
       "    <tr>\n",
       "      <th>1</th>\n",
       "      <td>Security alert for jmdgameing@gmail.com</td>\n",
       "      <td>2024-03-23 06:29:18+00:00</td>\n",
       "      <td>Inbox,Category updates,Unread</td>\n",
       "    </tr>\n",
       "    <tr>\n",
       "      <th>2</th>\n",
       "      <td>Security alert for jmdgameing@gmail.com</td>\n",
       "      <td>2024-03-23 06:17:48+00:00</td>\n",
       "      <td>Inbox,Category updates,Unread</td>\n",
       "    </tr>\n",
       "    <tr>\n",
       "      <th>3</th>\n",
       "      <td>Security alert for jmdgameing@gmail.com</td>\n",
       "      <td>2024-03-23 06:14:51+00:00</td>\n",
       "      <td>Inbox,Category updates,Unread</td>\n",
       "    </tr>\n",
       "    <tr>\n",
       "      <th>4</th>\n",
       "      <td>Security alert for jmdgameing@gmail.com</td>\n",
       "      <td>2024-03-23 06:14:49+00:00</td>\n",
       "      <td>Inbox,Category updates,Unread</td>\n",
       "    </tr>\n",
       "    <tr>\n",
       "      <th>5</th>\n",
       "      <td>Roaring Twenties?</td>\n",
       "      <td>2024-03-23 04:00:28+00:00</td>\n",
       "      <td>Inbox,Category updates,Unread</td>\n",
       "    </tr>\n",
       "    <tr>\n",
       "      <th>6</th>\n",
       "      <td>Margin Statement</td>\n",
       "      <td>2024-03-23 03:19:43+00:00</td>\n",
       "      <td>Inbox,Category updates,Unread</td>\n",
       "    </tr>\n",
       "    <tr>\n",
       "      <th>7</th>\n",
       "      <td>Exclusive Offer for Reader | Get ePaper at jus...</td>\n",
       "      <td>2024-03-23 02:30:19+00:00</td>\n",
       "      <td>Spam,Category promotions,Unread</td>\n",
       "    </tr>\n",
       "  </tbody>\n",
       "</table>\n",
       "</div>"
      ],
      "text/plain": [
       "                                             subject  \\\n",
       "0                                     Security alert   \n",
       "1            Security alert for jmdgameing@gmail.com   \n",
       "2            Security alert for jmdgameing@gmail.com   \n",
       "3            Security alert for jmdgameing@gmail.com   \n",
       "4            Security alert for jmdgameing@gmail.com   \n",
       "5                                  Roaring Twenties?   \n",
       "6                                   Margin Statement   \n",
       "7  Exclusive Offer for Reader | Get ePaper at jus...   \n",
       "\n",
       "                       date                            label  \n",
       "0 2024-03-23 07:44:26+00:00    Inbox,Category updates,Unread  \n",
       "1 2024-03-23 06:29:18+00:00    Inbox,Category updates,Unread  \n",
       "2 2024-03-23 06:17:48+00:00    Inbox,Category updates,Unread  \n",
       "3 2024-03-23 06:14:51+00:00    Inbox,Category updates,Unread  \n",
       "4 2024-03-23 06:14:49+00:00    Inbox,Category updates,Unread  \n",
       "5 2024-03-23 04:00:28+00:00    Inbox,Category updates,Unread  \n",
       "6 2024-03-23 03:19:43+00:00    Inbox,Category updates,Unread  \n",
       "7 2024-03-23 02:30:19+00:00  Spam,Category promotions,Unread  "
      ]
     },
     "execution_count": 20,
     "metadata": {},
     "output_type": "execute_result"
    }
   ],
   "source": [
    "df[['subject', 'date', 'label']].head(8)"
   ]
  },
  {
   "cell_type": "markdown",
   "metadata": {
    "id": "HzsNrqbDTxNg"
   },
   "source": [
    "where the most recent message is the notification from Gmail to download the data used here. The oldest messages are"
   ]
  },
  {
   "cell_type": "code",
   "execution_count": 21,
   "metadata": {
    "colab": {
     "base_uri": "https://localhost:8080/",
     "height": 331
    },
    "executionInfo": {
     "elapsed": 410,
     "status": "ok",
     "timestamp": 1710692857247,
     "user": {
      "displayName": "Krishnan Hariharan",
      "userId": "05337437693880879682"
     },
     "user_tz": -330
    },
    "id": "UrwoBqHUTxkC",
    "outputId": "a602d505-9220-4bf1-cb1c-c9a11813394f"
   },
   "outputs": [
    {
     "data": {
      "text/html": [
       "<div>\n",
       "<style scoped>\n",
       "    .dataframe tbody tr th:only-of-type {\n",
       "        vertical-align: middle;\n",
       "    }\n",
       "\n",
       "    .dataframe tbody tr th {\n",
       "        vertical-align: top;\n",
       "    }\n",
       "\n",
       "    .dataframe thead th {\n",
       "        text-align: right;\n",
       "    }\n",
       "</style>\n",
       "<table border=\"1\" class=\"dataframe\">\n",
       "  <thead>\n",
       "    <tr style=\"text-align: right;\">\n",
       "      <th></th>\n",
       "      <th>subject</th>\n",
       "      <th>date</th>\n",
       "      <th>label</th>\n",
       "    </tr>\n",
       "  </thead>\n",
       "  <tbody>\n",
       "    <tr>\n",
       "      <th>25410</th>\n",
       "      <td>Ok Google, remind me to pay the electricity bill</td>\n",
       "      <td>2019-04-28 10:07:58+00:00</td>\n",
       "      <td>Inbox,Category updates,Unread</td>\n",
       "    </tr>\n",
       "    <tr>\n",
       "      <th>25411</th>\n",
       "      <td>Comprehensive News Analysis: 27th April, 2019.</td>\n",
       "      <td>2019-04-27 12:56:10+00:00</td>\n",
       "      <td>Inbox,Category promotions,Unread</td>\n",
       "    </tr>\n",
       "    <tr>\n",
       "      <th>25412</th>\n",
       "      <td>We care about your security</td>\n",
       "      <td>2019-04-27 11:25:31+00:00</td>\n",
       "      <td>Inbox,Category promotions,Unread</td>\n",
       "    </tr>\n",
       "    <tr>\n",
       "      <th>25413</th>\n",
       "      <td>Comprehensive News Analysis: 26th April, 2019.</td>\n",
       "      <td>2019-04-26 14:25:16+00:00</td>\n",
       "      <td>Inbox,Category promotions,Unread</td>\n",
       "    </tr>\n",
       "    <tr>\n",
       "      <th>25414</th>\n",
       "      <td>Ok Google, call Home</td>\n",
       "      <td>2019-04-26 10:06:06+00:00</td>\n",
       "      <td>Inbox,Category updates,Unread</td>\n",
       "    </tr>\n",
       "    <tr>\n",
       "      <th>25415</th>\n",
       "      <td>Hey Google, what can you do?</td>\n",
       "      <td>2019-04-24 09:00:53+00:00</td>\n",
       "      <td>Inbox,Category updates,Unread</td>\n",
       "    </tr>\n",
       "    <tr>\n",
       "      <th>25416</th>\n",
       "      <td>Vikram, get started on Google Play</td>\n",
       "      <td>2019-04-22 11:25:28+00:00</td>\n",
       "      <td>Inbox,Category promotions,Unread</td>\n",
       "    </tr>\n",
       "    <tr>\n",
       "      <th>25417</th>\n",
       "      <td>Security alert</td>\n",
       "      <td>2019-04-22 08:23:21+00:00</td>\n",
       "      <td>Inbox,Category personal,Unread</td>\n",
       "    </tr>\n",
       "    <tr>\n",
       "      <th>25418</th>\n",
       "      <td>Finish setting up your new Google account</td>\n",
       "      <td>2019-04-22 08:22:52+00:00</td>\n",
       "      <td>Inbox,Category updates,Unread</td>\n",
       "    </tr>\n",
       "  </tbody>\n",
       "</table>\n",
       "</div>"
      ],
      "text/plain": [
       "                                                subject  \\\n",
       "25410  Ok Google, remind me to pay the electricity bill   \n",
       "25411    Comprehensive News Analysis: 27th April, 2019.   \n",
       "25412                       We care about your security   \n",
       "25413    Comprehensive News Analysis: 26th April, 2019.   \n",
       "25414                              Ok Google, call Home   \n",
       "25415                      Hey Google, what can you do?   \n",
       "25416                Vikram, get started on Google Play   \n",
       "25417                                    Security alert   \n",
       "25418         Finish setting up your new Google account   \n",
       "\n",
       "                           date                             label  \n",
       "25410 2019-04-28 10:07:58+00:00     Inbox,Category updates,Unread  \n",
       "25411 2019-04-27 12:56:10+00:00  Inbox,Category promotions,Unread  \n",
       "25412 2019-04-27 11:25:31+00:00  Inbox,Category promotions,Unread  \n",
       "25413 2019-04-26 14:25:16+00:00  Inbox,Category promotions,Unread  \n",
       "25414 2019-04-26 10:06:06+00:00     Inbox,Category updates,Unread  \n",
       "25415 2019-04-24 09:00:53+00:00     Inbox,Category updates,Unread  \n",
       "25416 2019-04-22 11:25:28+00:00  Inbox,Category promotions,Unread  \n",
       "25417 2019-04-22 08:23:21+00:00    Inbox,Category personal,Unread  \n",
       "25418 2019-04-22 08:22:52+00:00     Inbox,Category updates,Unread  "
      ]
     },
     "execution_count": 21,
     "metadata": {},
     "output_type": "execute_result"
    }
   ],
   "source": [
    "df[['subject', 'date', 'label']].tail(9)"
   ]
  },
  {
   "cell_type": "markdown",
   "metadata": {
    "id": "qCmJFRDHT5oP"
   },
   "source": [
    "Finally, there are many messages in the `Drafts` folder that should also be removed"
   ]
  },
  {
   "cell_type": "code",
   "execution_count": 22,
   "metadata": {
    "executionInfo": {
     "elapsed": 351,
     "status": "ok",
     "timestamp": 1710692873616,
     "user": {
      "displayName": "Krishnan Hariharan",
      "userId": "05337437693880879682"
     },
     "user_tz": -330
    },
    "id": "N9SoxnrET6Gs"
   },
   "outputs": [],
   "source": [
    "df = df[df['label'] != 'Drafts']"
   ]
  },
  {
   "cell_type": "markdown",
   "metadata": {
    "id": "xiM2mTbyT-4Q"
   },
   "source": [
    "The same applies for `Spam` messages. Unfortunately, this label does not appear alone so it must be searched in the `label` column"
   ]
  },
  {
   "cell_type": "code",
   "execution_count": 23,
   "metadata": {
    "executionInfo": {
     "elapsed": 339,
     "status": "ok",
     "timestamp": 1710692876634,
     "user": {
      "displayName": "Krishnan Hariharan",
      "userId": "05337437693880879682"
     },
     "user_tz": -330
    },
    "id": "N72z1ECfT_VJ"
   },
   "outputs": [],
   "source": [
    "cnt = 0\n",
    "idx_to_remove = []\n",
    "for i, lab in enumerate(df['label']):\n",
    "    if 'Spam' in str(lab):\n",
    "        idx_to_remove.append(i)\n",
    "\n",
    "df = df.drop(df.index[idx_to_remove])\n",
    "df = df.reset_index(drop=True)"
   ]
  },
  {
   "cell_type": "markdown",
   "metadata": {
    "id": "iVMnb7HPUFE8"
   },
   "source": [
    "At this point, and given the time used for cleaning the data file, it is a good idea to export it as a `csv` file for future use without the need of redoing the preprocessing above."
   ]
  },
  {
   "cell_type": "code",
   "execution_count": 24,
   "metadata": {
    "executionInfo": {
     "elapsed": 358,
     "status": "ok",
     "timestamp": 1710692898367,
     "user": {
      "displayName": "Krishnan Hariharan",
      "userId": "05337437693880879682"
     },
     "user_tz": -330
    },
    "id": "Y1QmsRWCUGc-"
   },
   "outputs": [],
   "source": [
    "df.to_csv('outmut.csv',\n",
    "          encoding='utf-8', index=False)"
   ]
  },
  {
   "cell_type": "markdown",
   "metadata": {
    "id": "hh_TSO7cUfDF"
   },
   "source": [
    "# **Data exploration**\n",
    "\n",
    "We can now begin exploring the data set."
   ]
  },
  {
   "cell_type": "code",
   "execution_count": 25,
   "metadata": {
    "colab": {
     "base_uri": "https://localhost:8080/"
    },
    "executionInfo": {
     "elapsed": 413,
     "status": "ok",
     "timestamp": 1710692912936,
     "user": {
      "displayName": "Krishnan Hariharan",
      "userId": "05337437693880879682"
     },
     "user_tz": -330
    },
    "id": "XxQYtzMkUf2G",
    "outputId": "b7b26792-d984-4b82-8b7f-563120efb8e7"
   },
   "outputs": [
    {
     "data": {
      "text/plain": [
       "25381"
      ]
     },
     "execution_count": 25,
     "metadata": {},
     "output_type": "execute_result"
    }
   ],
   "source": [
    "df = pd.read_csv('outmut.csv')\n",
    "len(df)"
   ]
  },
  {
   "cell_type": "markdown",
   "metadata": {
    "id": "Gj8mRBdFUp0x"
   },
   "source": [
    "Since the data was loaded from a `csv` file, the dates are back as `str` so they must be converted into `timestamp` again"
   ]
  },
  {
   "cell_type": "code",
   "execution_count": 26,
   "metadata": {
    "executionInfo": {
     "elapsed": 418,
     "status": "ok",
     "timestamp": 1710692928104,
     "user": {
      "displayName": "Krishnan Hariharan",
      "userId": "05337437693880879682"
     },
     "user_tz": -330
    },
    "id": "5uT5u8SkUqP6"
   },
   "outputs": [],
   "source": [
    "df['date'] = df['date'].apply(lambda x: pd.to_datetime(x))"
   ]
  },
  {
   "cell_type": "markdown",
   "metadata": {
    "id": "jJa50BAeUxRY"
   },
   "source": [
    "## **1. Incoming vs. outgoing messages**\n",
    "For simplicity, all messages written by me or sent to me can be labeled by the string `me` instead of my email address. This will make the identification of incoming and outgoing emails easier. For this the following helper function returns `me` my email address is found and leaves the text unchanged, otherwise:"
   ]
  },
  {
   "cell_type": "code",
   "execution_count": null,
   "metadata": {
    "executionInfo": {
     "elapsed": 368,
     "status": "ok",
     "timestamp": 1710693457251,
     "user": {
      "displayName": "Krishnan Hariharan",
      "userId": "05337437693880879682"
     },
     "user_tz": -330
    },
    "id": "GtGChVrCUyxK"
   },
   "outputs": [],
   "source": [
    "def rename_me(txt):\n",
    "    txt = str(txt).lower()\n",
    "    if('maheshhabib07@gmail.com' in txt or\n",
    "       '25012001' in txt):\n",
    "        txt_out = 'me'\n",
    "    else:\n",
    "        txt_out = txt\n",
    "    return txt_out"
   ]
  },
  {
   "cell_type": "code",
   "execution_count": 28,
   "metadata": {
    "executionInfo": {
     "elapsed": 8,
     "status": "ok",
     "timestamp": 1710693459166,
     "user": {
      "displayName": "Krishnan Hariharan",
      "userId": "05337437693880879682"
     },
     "user_tz": -330
    },
    "id": "IvCK2gcmTEgX"
   },
   "outputs": [],
   "source": [
    "df['from'] = df['from'].apply(rename_me)\n",
    "df['to'] = df['to'].apply(rename_me)"
   ]
  },
  {
   "cell_type": "code",
   "execution_count": 29,
   "metadata": {
    "colab": {
     "base_uri": "https://localhost:8080/",
     "height": 174
    },
    "executionInfo": {
     "elapsed": 441,
     "status": "ok",
     "timestamp": 1710693462731,
     "user": {
      "displayName": "Krishnan Hariharan",
      "userId": "05337437693880879682"
     },
     "user_tz": -330
    },
    "id": "iLoYx7g9U3TQ",
    "outputId": "d2588c72-1ce8-49d4-a8d8-6162c6d566a1"
   },
   "outputs": [
    {
     "data": {
      "text/html": [
       "<div>\n",
       "<style scoped>\n",
       "    .dataframe tbody tr th:only-of-type {\n",
       "        vertical-align: middle;\n",
       "    }\n",
       "\n",
       "    .dataframe tbody tr th {\n",
       "        vertical-align: top;\n",
       "    }\n",
       "\n",
       "    .dataframe thead th {\n",
       "        text-align: right;\n",
       "    }\n",
       "</style>\n",
       "<table border=\"1\" class=\"dataframe\">\n",
       "  <thead>\n",
       "    <tr style=\"text-align: right;\">\n",
       "      <th></th>\n",
       "      <th>subject</th>\n",
       "      <th>to</th>\n",
       "      <th>date</th>\n",
       "      <th>label</th>\n",
       "    </tr>\n",
       "  </thead>\n",
       "  <tbody>\n",
       "    <tr>\n",
       "      <th>0</th>\n",
       "      <td>Security alert</td>\n",
       "      <td>me</td>\n",
       "      <td>2024-03-23 07:44:26+00:00</td>\n",
       "      <td>Inbox,Category updates,Unread</td>\n",
       "    </tr>\n",
       "    <tr>\n",
       "      <th>1</th>\n",
       "      <td>Security alert for jmdgameing@gmail.com</td>\n",
       "      <td>me</td>\n",
       "      <td>2024-03-23 06:29:18+00:00</td>\n",
       "      <td>Inbox,Category updates,Unread</td>\n",
       "    </tr>\n",
       "    <tr>\n",
       "      <th>2</th>\n",
       "      <td>Security alert for jmdgameing@gmail.com</td>\n",
       "      <td>me</td>\n",
       "      <td>2024-03-23 06:17:48+00:00</td>\n",
       "      <td>Inbox,Category updates,Unread</td>\n",
       "    </tr>\n",
       "    <tr>\n",
       "      <th>3</th>\n",
       "      <td>Security alert for jmdgameing@gmail.com</td>\n",
       "      <td>me</td>\n",
       "      <td>2024-03-23 06:14:51+00:00</td>\n",
       "      <td>Inbox,Category updates,Unread</td>\n",
       "    </tr>\n",
       "  </tbody>\n",
       "</table>\n",
       "</div>"
      ],
      "text/plain": [
       "                                   subject  to                      date  \\\n",
       "0                           Security alert  me 2024-03-23 07:44:26+00:00   \n",
       "1  Security alert for jmdgameing@gmail.com  me 2024-03-23 06:29:18+00:00   \n",
       "2  Security alert for jmdgameing@gmail.com  me 2024-03-23 06:17:48+00:00   \n",
       "3  Security alert for jmdgameing@gmail.com  me 2024-03-23 06:14:51+00:00   \n",
       "\n",
       "                           label  \n",
       "0  Inbox,Category updates,Unread  \n",
       "1  Inbox,Category updates,Unread  \n",
       "2  Inbox,Category updates,Unread  \n",
       "3  Inbox,Category updates,Unread  "
      ]
     },
     "execution_count": 29,
     "metadata": {},
     "output_type": "execute_result"
    }
   ],
   "source": [
    "df[['subject', 'to', 'date', 'label']].head(4)"
   ]
  },
  {
   "cell_type": "markdown",
   "metadata": {
    "id": "xPlR-kPsVFGN"
   },
   "source": [
    "Since we want to explore the statistical distribution of messages, a useful information is a count of messages, for which a unit `count` column can be created"
   ]
  },
  {
   "cell_type": "code",
   "execution_count": 30,
   "metadata": {
    "executionInfo": {
     "elapsed": 6,
     "status": "ok",
     "timestamp": 1710693467132,
     "user": {
      "displayName": "Krishnan Hariharan",
      "userId": "05337437693880879682"
     },
     "user_tz": -330
    },
    "id": "nzCBLvqmVFfV"
   },
   "outputs": [],
   "source": [
    "df['count'] = [1 for _ in range(len(df))]"
   ]
  },
  {
   "cell_type": "markdown",
   "metadata": {
    "id": "CnocwfNdVIBf"
   },
   "source": [
    "In order to keep the original data intact, we can make a copy and set the timestamp as a index, so that messages can be grouped and resampled by time periods"
   ]
  },
  {
   "cell_type": "code",
   "execution_count": 31,
   "metadata": {
    "executionInfo": {
     "elapsed": 460,
     "status": "ok",
     "timestamp": 1710693467986,
     "user": {
      "displayName": "Krishnan Hariharan",
      "userId": "05337437693880879682"
     },
     "user_tz": -330
    },
    "id": "4sBpczVtVKf8"
   },
   "outputs": [],
   "source": [
    "data = df.copy()\n",
    "data.set_index('date', drop=True, inplace=True)"
   ]
  },
  {
   "cell_type": "markdown",
   "metadata": {
    "id": "zUBI42gjVOpQ"
   },
   "source": [
    "Now we can identify incoming vs. outgoing emails"
   ]
  },
  {
   "cell_type": "code",
   "execution_count": 32,
   "metadata": {
    "executionInfo": {
     "elapsed": 3,
     "status": "ok",
     "timestamp": 1710693469600,
     "user": {
      "displayName": "Krishnan Hariharan",
      "userId": "05337437693880879682"
     },
     "user_tz": -330
    },
    "id": "Jih_kr8aVPHR"
   },
   "outputs": [],
   "source": [
    "data_in = data[data['to'] == 'me']\n",
    "data_out = data[data['from'] == 'me']"
   ]
  },
  {
   "cell_type": "code",
   "execution_count": 33,
   "metadata": {
    "colab": {
     "base_uri": "https://localhost:8080/",
     "height": 459
    },
    "executionInfo": {
     "elapsed": 1031,
     "status": "ok",
     "timestamp": 1710693472078,
     "user": {
      "displayName": "Krishnan Hariharan",
      "userId": "05337437693880879682"
     },
     "user_tz": -330
    },
    "id": "23-HXHuEU_zm",
    "outputId": "5355777b-b77e-4bef-9419-befb41110d78"
   },
   "outputs": [
    {
     "data": {
      "application/pdf": "[encoded data removed]",
      "image/svg+xml": [
       "<?xml version=\"1.0\" encoding=\"utf-8\" standalone=\"no\"?>\n",
       "<!DOCTYPE svg PUBLIC \"-//W3C//DTD SVG 1.1//EN\"\n",
       "  \"http://www.w3.org/Graphics/SVG/1.1/DTD/svg11.dtd\">\n",
       "<svg xmlns:xlink=\"http://www.w3.org/1999/xlink\" width=\"414.614394pt\" height=\"315.046219pt\" viewBox=\"0 0 414.614394 315.046219\" xmlns=\"http://www.w3.org/2000/svg\" version=\"1.1\">\n",
       " <metadata>\n",
       "  <rdf:RDF xmlns:dc=\"http://purl.org/dc/elements/1.1/\" xmlns:cc=\"http://creativecommons.org/ns#\" xmlns:rdf=\"http://www.w3.org/1999/02/22-rdf-syntax-ns#\">\n",
       "   <cc:Work>\n",
       "    <dc:type rdf:resource=\"http://purl.org/dc/dcmitype/StillImage\"/>\n",
       "    <dc:date>2024-03-23T15:42:37.669544</dc:date>\n",
       "    <dc:format>image/svg+xml</dc:format>\n",
       "    <dc:creator>\n",
       "     <cc:Agent>\n",
       "      <dc:title>Matplotlib v3.7.2, https://matplotlib.org/</dc:title>\n",
       "     </cc:Agent>\n",
       "    </dc:creator>\n",
       "   </cc:Work>\n",
       "  </rdf:RDF>\n",
       " </metadata>\n",
       " <defs>\n",
       "  <style type=\"text/css\">*{stroke-linejoin: round; stroke-linecap: butt}</style>\n",
       " </defs>\n",
       " <g id=\"figure_1\">\n",
       "  <g id=\"patch_1\">\n",
       "   <path d=\"M 0 315.046219 \n",
       "L 414.614394 315.046219 \n",
       "L 414.614394 0 \n",
       "L 0 0 \n",
       "z\n",
       "\" style=\"fill: #ffffff\"/>\n",
       "  </g>\n",
       "  <g id=\"axes_1\">\n",
       "   <g id=\"patch_2\">\n",
       "    <path d=\"M 50.166094 273.312 \n",
       "L 407.286094 273.312 \n",
       "L 407.286094 7.2 \n",
       "L 50.166094 7.2 \n",
       "z\n",
       "\" style=\"fill: #eaeaf2\"/>\n",
       "   </g>\n",
       "   <g id=\"matplotlib.axis_1\">\n",
       "    <g id=\"xtick_1\">\n",
       "     <g id=\"line2d_1\">\n",
       "      <path d=\"M 104.642026 273.312 \n",
       "L 104.642026 7.2 \n",
       "\" clip-path=\"url(#p8ac4f01dd3)\" style=\"fill: none; stroke: #ffffff; stroke-linecap: round\"/>\n",
       "     </g>\n",
       "     <g id=\"text_1\">\n",
       "      <!-- 2020 -->\n",
       "      <g style=\"fill: #262626\" transform=\"translate(92.407963 290.685594) scale(0.11 -0.11)\">\n",
       "       <defs>\n",
       "        <path id=\"ArialMT-32\" d=\"M 3222 541 \n",
       "L 3222 0 \n",
       "L 194 0 \n",
       "Q 188 203 259 391 \n",
       "Q 375 700 629 1000 \n",
       "Q 884 1300 1366 1694 \n",
       "Q 2113 2306 2375 2664 \n",
       "Q 2638 3022 2638 3341 \n",
       "Q 2638 3675 2398 3904 \n",
       "Q 2159 4134 1775 4134 \n",
       "Q 1369 4134 1125 3890 \n",
       "Q 881 3647 878 3216 \n",
       "L 300 3275 \n",
       "Q 359 3922 746 4261 \n",
       "Q 1134 4600 1788 4600 \n",
       "Q 2447 4600 2831 4234 \n",
       "Q 3216 3869 3216 3328 \n",
       "Q 3216 3053 3103 2787 \n",
       "Q 2991 2522 2730 2228 \n",
       "Q 2469 1934 1863 1422 \n",
       "Q 1356 997 1212 845 \n",
       "Q 1069 694 975 541 \n",
       "L 3222 541 \n",
       "z\n",
       "\" transform=\"scale(0.015625)\"/>\n",
       "        <path id=\"ArialMT-30\" d=\"M 266 2259 \n",
       "Q 266 3072 433 3567 \n",
       "Q 600 4063 929 4331 \n",
       "Q 1259 4600 1759 4600 \n",
       "Q 2128 4600 2406 4451 \n",
       "Q 2684 4303 2865 4023 \n",
       "Q 3047 3744 3150 3342 \n",
       "Q 3253 2941 3253 2259 \n",
       "Q 3253 1453 3087 958 \n",
       "Q 2922 463 2592 192 \n",
       "Q 2263 -78 1759 -78 \n",
       "Q 1097 -78 719 397 \n",
       "Q 266 969 266 2259 \n",
       "z\n",
       "M 844 2259 \n",
       "Q 844 1131 1108 757 \n",
       "Q 1372 384 1759 384 \n",
       "Q 2147 384 2411 759 \n",
       "Q 2675 1134 2675 2259 \n",
       "Q 2675 3391 2411 3762 \n",
       "Q 2147 4134 1753 4134 \n",
       "Q 1366 4134 1134 3806 \n",
       "Q 844 3388 844 2259 \n",
       "z\n",
       "\" transform=\"scale(0.015625)\"/>\n",
       "       </defs>\n",
       "       <use xlink:href=\"#ArialMT-32\"/>\n",
       "       <use xlink:href=\"#ArialMT-30\" x=\"55.615234\"/>\n",
       "       <use xlink:href=\"#ArialMT-32\" x=\"111.230469\"/>\n",
       "       <use xlink:href=\"#ArialMT-30\" x=\"166.845703\"/>\n",
       "      </g>\n",
       "     </g>\n",
       "    </g>\n",
       "    <g id=\"xtick_2\">\n",
       "     <g id=\"line2d_2\">\n",
       "      <path d=\"M 177.276602 273.312 \n",
       "L 177.276602 7.2 \n",
       "\" clip-path=\"url(#p8ac4f01dd3)\" style=\"fill: none; stroke: #ffffff; stroke-linecap: round\"/>\n",
       "     </g>\n",
       "     <g id=\"text_2\">\n",
       "      <!-- 2021 -->\n",
       "      <g style=\"fill: #262626\" transform=\"translate(165.04254 290.685594) scale(0.11 -0.11)\">\n",
       "       <defs>\n",
       "        <path id=\"ArialMT-31\" d=\"M 2384 0 \n",
       "L 1822 0 \n",
       "L 1822 3584 \n",
       "Q 1619 3391 1289 3197 \n",
       "Q 959 3003 697 2906 \n",
       "L 697 3450 \n",
       "Q 1169 3672 1522 3987 \n",
       "Q 1875 4303 2022 4600 \n",
       "L 2384 4600 \n",
       "L 2384 0 \n",
       "z\n",
       "\" transform=\"scale(0.015625)\"/>\n",
       "       </defs>\n",
       "       <use xlink:href=\"#ArialMT-32\"/>\n",
       "       <use xlink:href=\"#ArialMT-30\" x=\"55.615234\"/>\n",
       "       <use xlink:href=\"#ArialMT-32\" x=\"111.230469\"/>\n",
       "       <use xlink:href=\"#ArialMT-31\" x=\"166.845703\"/>\n",
       "      </g>\n",
       "     </g>\n",
       "    </g>\n",
       "    <g id=\"xtick_3\">\n",
       "     <g id=\"line2d_3\">\n",
       "      <path d=\"M 249.911178 273.312 \n",
       "L 249.911178 7.2 \n",
       "\" clip-path=\"url(#p8ac4f01dd3)\" style=\"fill: none; stroke: #ffffff; stroke-linecap: round\"/>\n",
       "     </g>\n",
       "     <g id=\"text_3\">\n",
       "      <!-- 2022 -->\n",
       "      <g style=\"fill: #262626\" transform=\"translate(237.677116 290.685594) scale(0.11 -0.11)\">\n",
       "       <use xlink:href=\"#ArialMT-32\"/>\n",
       "       <use xlink:href=\"#ArialMT-30\" x=\"55.615234\"/>\n",
       "       <use xlink:href=\"#ArialMT-32\" x=\"111.230469\"/>\n",
       "       <use xlink:href=\"#ArialMT-32\" x=\"166.845703\"/>\n",
       "      </g>\n",
       "     </g>\n",
       "    </g>\n",
       "    <g id=\"xtick_4\">\n",
       "     <g id=\"line2d_4\">\n",
       "      <path d=\"M 322.545755 273.312 \n",
       "L 322.545755 7.2 \n",
       "\" clip-path=\"url(#p8ac4f01dd3)\" style=\"fill: none; stroke: #ffffff; stroke-linecap: round\"/>\n",
       "     </g>\n",
       "     <g id=\"text_4\">\n",
       "      <!-- 2023 -->\n",
       "      <g style=\"fill: #262626\" transform=\"translate(310.311692 290.685594) scale(0.11 -0.11)\">\n",
       "       <defs>\n",
       "        <path id=\"ArialMT-33\" d=\"M 269 1209 \n",
       "L 831 1284 \n",
       "Q 928 806 1161 595 \n",
       "Q 1394 384 1728 384 \n",
       "Q 2125 384 2398 659 \n",
       "Q 2672 934 2672 1341 \n",
       "Q 2672 1728 2419 1979 \n",
       "Q 2166 2231 1775 2231 \n",
       "Q 1616 2231 1378 2169 \n",
       "L 1441 2663 \n",
       "Q 1497 2656 1531 2656 \n",
       "Q 1891 2656 2178 2843 \n",
       "Q 2466 3031 2466 3422 \n",
       "Q 2466 3731 2256 3934 \n",
       "Q 2047 4138 1716 4138 \n",
       "Q 1388 4138 1169 3931 \n",
       "Q 950 3725 888 3313 \n",
       "L 325 3413 \n",
       "Q 428 3978 793 4289 \n",
       "Q 1159 4600 1703 4600 \n",
       "Q 2078 4600 2393 4439 \n",
       "Q 2709 4278 2876 4000 \n",
       "Q 3044 3722 3044 3409 \n",
       "Q 3044 3113 2884 2869 \n",
       "Q 2725 2625 2413 2481 \n",
       "Q 2819 2388 3044 2092 \n",
       "Q 3269 1797 3269 1353 \n",
       "Q 3269 753 2831 336 \n",
       "Q 2394 -81 1725 -81 \n",
       "Q 1122 -81 723 278 \n",
       "Q 325 638 269 1209 \n",
       "z\n",
       "\" transform=\"scale(0.015625)\"/>\n",
       "       </defs>\n",
       "       <use xlink:href=\"#ArialMT-32\"/>\n",
       "       <use xlink:href=\"#ArialMT-30\" x=\"55.615234\"/>\n",
       "       <use xlink:href=\"#ArialMT-32\" x=\"111.230469\"/>\n",
       "       <use xlink:href=\"#ArialMT-33\" x=\"166.845703\"/>\n",
       "      </g>\n",
       "     </g>\n",
       "    </g>\n",
       "    <g id=\"xtick_5\">\n",
       "     <g id=\"line2d_5\">\n",
       "      <path d=\"M 395.180331 273.312 \n",
       "L 395.180331 7.2 \n",
       "\" clip-path=\"url(#p8ac4f01dd3)\" style=\"fill: none; stroke: #ffffff; stroke-linecap: round\"/>\n",
       "     </g>\n",
       "     <g id=\"text_5\">\n",
       "      <!-- 2024 -->\n",
       "      <g style=\"fill: #262626\" transform=\"translate(382.946269 290.685594) scale(0.11 -0.11)\">\n",
       "       <defs>\n",
       "        <path id=\"ArialMT-34\" d=\"M 2069 0 \n",
       "L 2069 1097 \n",
       "L 81 1097 \n",
       "L 81 1613 \n",
       "L 2172 4581 \n",
       "L 2631 4581 \n",
       "L 2631 1613 \n",
       "L 3250 1613 \n",
       "L 3250 1097 \n",
       "L 2631 1097 \n",
       "L 2631 0 \n",
       "L 2069 0 \n",
       "z\n",
       "M 2069 1613 \n",
       "L 2069 3678 \n",
       "L 634 1613 \n",
       "L 2069 1613 \n",
       "z\n",
       "\" transform=\"scale(0.015625)\"/>\n",
       "       </defs>\n",
       "       <use xlink:href=\"#ArialMT-32\"/>\n",
       "       <use xlink:href=\"#ArialMT-30\" x=\"55.615234\"/>\n",
       "       <use xlink:href=\"#ArialMT-32\" x=\"111.230469\"/>\n",
       "       <use xlink:href=\"#ArialMT-34\" x=\"166.845703\"/>\n",
       "      </g>\n",
       "     </g>\n",
       "    </g>\n",
       "    <g id=\"xtick_6\"/>\n",
       "    <g id=\"xtick_7\"/>\n",
       "    <g id=\"xtick_8\"/>\n",
       "    <g id=\"xtick_9\"/>\n",
       "    <g id=\"xtick_10\"/>\n",
       "    <g id=\"xtick_11\"/>\n",
       "    <g id=\"xtick_12\"/>\n",
       "    <g id=\"xtick_13\"/>\n",
       "    <g id=\"xtick_14\"/>\n",
       "    <g id=\"xtick_15\"/>\n",
       "    <g id=\"xtick_16\"/>\n",
       "    <g id=\"xtick_17\"/>\n",
       "    <g id=\"xtick_18\"/>\n",
       "    <g id=\"xtick_19\"/>\n",
       "    <g id=\"xtick_20\"/>\n",
       "    <g id=\"text_6\">\n",
       "     <!-- date -->\n",
       "     <g style=\"fill: #262626\" transform=\"translate(217.049531 305.461219) scale(0.12 -0.12)\">\n",
       "      <defs>\n",
       "       <path id=\"ArialMT-64\" d=\"M 2575 0 \n",
       "L 2575 419 \n",
       "Q 2259 -75 1647 -75 \n",
       "Q 1250 -75 917 144 \n",
       "Q 584 363 401 755 \n",
       "Q 219 1147 219 1656 \n",
       "Q 219 2153 384 2558 \n",
       "Q 550 2963 881 3178 \n",
       "Q 1213 3394 1622 3394 \n",
       "Q 1922 3394 2156 3267 \n",
       "Q 2391 3141 2538 2938 \n",
       "L 2538 4581 \n",
       "L 3097 4581 \n",
       "L 3097 0 \n",
       "L 2575 0 \n",
       "z\n",
       "M 797 1656 \n",
       "Q 797 1019 1065 703 \n",
       "Q 1334 388 1700 388 \n",
       "Q 2069 388 2326 689 \n",
       "Q 2584 991 2584 1609 \n",
       "Q 2584 2291 2321 2609 \n",
       "Q 2059 2928 1675 2928 \n",
       "Q 1300 2928 1048 2622 \n",
       "Q 797 2316 797 1656 \n",
       "z\n",
       "\" transform=\"scale(0.015625)\"/>\n",
       "       <path id=\"ArialMT-61\" d=\"M 2588 409 \n",
       "Q 2275 144 1986 34 \n",
       "Q 1697 -75 1366 -75 \n",
       "Q 819 -75 525 192 \n",
       "Q 231 459 231 875 \n",
       "Q 231 1119 342 1320 \n",
       "Q 453 1522 633 1644 \n",
       "Q 813 1766 1038 1828 \n",
       "Q 1203 1872 1538 1913 \n",
       "Q 2219 1994 2541 2106 \n",
       "Q 2544 2222 2544 2253 \n",
       "Q 2544 2597 2384 2738 \n",
       "Q 2169 2928 1744 2928 \n",
       "Q 1347 2928 1158 2789 \n",
       "Q 969 2650 878 2297 \n",
       "L 328 2372 \n",
       "Q 403 2725 575 2942 \n",
       "Q 747 3159 1072 3276 \n",
       "Q 1397 3394 1825 3394 \n",
       "Q 2250 3394 2515 3294 \n",
       "Q 2781 3194 2906 3042 \n",
       "Q 3031 2891 3081 2659 \n",
       "Q 3109 2516 3109 2141 \n",
       "L 3109 1391 \n",
       "Q 3109 606 3145 398 \n",
       "Q 3181 191 3288 0 \n",
       "L 2700 0 \n",
       "Q 2613 175 2588 409 \n",
       "z\n",
       "M 2541 1666 \n",
       "Q 2234 1541 1622 1453 \n",
       "Q 1275 1403 1131 1340 \n",
       "Q 988 1278 909 1158 \n",
       "Q 831 1038 831 891 \n",
       "Q 831 666 1001 516 \n",
       "Q 1172 366 1500 366 \n",
       "Q 1825 366 2078 508 \n",
       "Q 2331 650 2450 897 \n",
       "Q 2541 1088 2541 1459 \n",
       "L 2541 1666 \n",
       "z\n",
       "\" transform=\"scale(0.015625)\"/>\n",
       "       <path id=\"ArialMT-74\" d=\"M 1650 503 \n",
       "L 1731 6 \n",
       "Q 1494 -44 1306 -44 \n",
       "Q 1000 -44 831 53 \n",
       "Q 663 150 594 308 \n",
       "Q 525 466 525 972 \n",
       "L 525 2881 \n",
       "L 113 2881 \n",
       "L 113 3319 \n",
       "L 525 3319 \n",
       "L 525 4141 \n",
       "L 1084 4478 \n",
       "L 1084 3319 \n",
       "L 1650 3319 \n",
       "L 1650 2881 \n",
       "L 1084 2881 \n",
       "L 1084 941 \n",
       "Q 1084 700 1114 631 \n",
       "Q 1144 563 1211 522 \n",
       "Q 1278 481 1403 481 \n",
       "Q 1497 481 1650 503 \n",
       "z\n",
       "\" transform=\"scale(0.015625)\"/>\n",
       "       <path id=\"ArialMT-65\" d=\"M 2694 1069 \n",
       "L 3275 997 \n",
       "Q 3138 488 2766 206 \n",
       "Q 2394 -75 1816 -75 \n",
       "Q 1088 -75 661 373 \n",
       "Q 234 822 234 1631 \n",
       "Q 234 2469 665 2931 \n",
       "Q 1097 3394 1784 3394 \n",
       "Q 2450 3394 2872 2941 \n",
       "Q 3294 2488 3294 1666 \n",
       "Q 3294 1616 3291 1516 \n",
       "L 816 1516 \n",
       "Q 847 969 1125 678 \n",
       "Q 1403 388 1819 388 \n",
       "Q 2128 388 2347 550 \n",
       "Q 2566 713 2694 1069 \n",
       "z\n",
       "M 847 1978 \n",
       "L 2700 1978 \n",
       "Q 2663 2397 2488 2606 \n",
       "Q 2219 2931 1791 2931 \n",
       "Q 1403 2931 1139 2672 \n",
       "Q 875 2413 847 1978 \n",
       "z\n",
       "\" transform=\"scale(0.015625)\"/>\n",
       "      </defs>\n",
       "      <use xlink:href=\"#ArialMT-64\"/>\n",
       "      <use xlink:href=\"#ArialMT-61\" x=\"55.615234\"/>\n",
       "      <use xlink:href=\"#ArialMT-74\" x=\"111.230469\"/>\n",
       "      <use xlink:href=\"#ArialMT-65\" x=\"139.013672\"/>\n",
       "     </g>\n",
       "    </g>\n",
       "   </g>\n",
       "   <g id=\"matplotlib.axis_2\">\n",
       "    <g id=\"ytick_1\">\n",
       "     <g id=\"line2d_6\">\n",
       "      <path d=\"M 50.166094 261.216 \n",
       "L 407.286094 261.216 \n",
       "\" clip-path=\"url(#p8ac4f01dd3)\" style=\"fill: none; stroke: #ffffff; stroke-linecap: round\"/>\n",
       "     </g>\n",
       "     <g id=\"text_7\">\n",
       "      <!-- 0 -->\n",
       "      <g style=\"fill: #262626\" transform=\"translate(34.549063 265.152797) scale(0.11 -0.11)\">\n",
       "       <use xlink:href=\"#ArialMT-30\"/>\n",
       "      </g>\n",
       "     </g>\n",
       "    </g>\n",
       "    <g id=\"ytick_2\">\n",
       "     <g id=\"line2d_7\">\n",
       "      <path d=\"M 50.166094 208.96546 \n",
       "L 407.286094 208.96546 \n",
       "\" clip-path=\"url(#p8ac4f01dd3)\" style=\"fill: none; stroke: #ffffff; stroke-linecap: round\"/>\n",
       "     </g>\n",
       "     <g id=\"text_8\">\n",
       "      <!-- 200 -->\n",
       "      <g style=\"fill: #262626\" transform=\"translate(22.315 212.902257) scale(0.11 -0.11)\">\n",
       "       <use xlink:href=\"#ArialMT-32\"/>\n",
       "       <use xlink:href=\"#ArialMT-30\" x=\"55.615234\"/>\n",
       "       <use xlink:href=\"#ArialMT-30\" x=\"111.230469\"/>\n",
       "      </g>\n",
       "     </g>\n",
       "    </g>\n",
       "    <g id=\"ytick_3\">\n",
       "     <g id=\"line2d_8\">\n",
       "      <path d=\"M 50.166094 156.71492 \n",
       "L 407.286094 156.71492 \n",
       "\" clip-path=\"url(#p8ac4f01dd3)\" style=\"fill: none; stroke: #ffffff; stroke-linecap: round\"/>\n",
       "     </g>\n",
       "     <g id=\"text_9\">\n",
       "      <!-- 400 -->\n",
       "      <g style=\"fill: #262626\" transform=\"translate(22.315 160.651717) scale(0.11 -0.11)\">\n",
       "       <use xlink:href=\"#ArialMT-34\"/>\n",
       "       <use xlink:href=\"#ArialMT-30\" x=\"55.615234\"/>\n",
       "       <use xlink:href=\"#ArialMT-30\" x=\"111.230469\"/>\n",
       "      </g>\n",
       "     </g>\n",
       "    </g>\n",
       "    <g id=\"ytick_4\">\n",
       "     <g id=\"line2d_9\">\n",
       "      <path d=\"M 50.166094 104.46438 \n",
       "L 407.286094 104.46438 \n",
       "\" clip-path=\"url(#p8ac4f01dd3)\" style=\"fill: none; stroke: #ffffff; stroke-linecap: round\"/>\n",
       "     </g>\n",
       "     <g id=\"text_10\">\n",
       "      <!-- 600 -->\n",
       "      <g style=\"fill: #262626\" transform=\"translate(22.315 108.401177) scale(0.11 -0.11)\">\n",
       "       <defs>\n",
       "        <path id=\"ArialMT-36\" d=\"M 3184 3459 \n",
       "L 2625 3416 \n",
       "Q 2550 3747 2413 3897 \n",
       "Q 2184 4138 1850 4138 \n",
       "Q 1581 4138 1378 3988 \n",
       "Q 1113 3794 959 3422 \n",
       "Q 806 3050 800 2363 \n",
       "Q 1003 2672 1297 2822 \n",
       "Q 1591 2972 1913 2972 \n",
       "Q 2475 2972 2870 2558 \n",
       "Q 3266 2144 3266 1488 \n",
       "Q 3266 1056 3080 686 \n",
       "Q 2894 316 2569 119 \n",
       "Q 2244 -78 1831 -78 \n",
       "Q 1128 -78 684 439 \n",
       "Q 241 956 241 2144 \n",
       "Q 241 3472 731 4075 \n",
       "Q 1159 4600 1884 4600 \n",
       "Q 2425 4600 2770 4297 \n",
       "Q 3116 3994 3184 3459 \n",
       "z\n",
       "M 888 1484 \n",
       "Q 888 1194 1011 928 \n",
       "Q 1134 663 1356 523 \n",
       "Q 1578 384 1822 384 \n",
       "Q 2178 384 2434 671 \n",
       "Q 2691 959 2691 1453 \n",
       "Q 2691 1928 2437 2201 \n",
       "Q 2184 2475 1800 2475 \n",
       "Q 1419 2475 1153 2201 \n",
       "Q 888 1928 888 1484 \n",
       "z\n",
       "\" transform=\"scale(0.015625)\"/>\n",
       "       </defs>\n",
       "       <use xlink:href=\"#ArialMT-36\"/>\n",
       "       <use xlink:href=\"#ArialMT-30\" x=\"55.615234\"/>\n",
       "       <use xlink:href=\"#ArialMT-30\" x=\"111.230469\"/>\n",
       "      </g>\n",
       "     </g>\n",
       "    </g>\n",
       "    <g id=\"ytick_5\">\n",
       "     <g id=\"line2d_10\">\n",
       "      <path d=\"M 50.166094 52.21384 \n",
       "L 407.286094 52.21384 \n",
       "\" clip-path=\"url(#p8ac4f01dd3)\" style=\"fill: none; stroke: #ffffff; stroke-linecap: round\"/>\n",
       "     </g>\n",
       "     <g id=\"text_11\">\n",
       "      <!-- 800 -->\n",
       "      <g style=\"fill: #262626\" transform=\"translate(22.315 56.150637) scale(0.11 -0.11)\">\n",
       "       <defs>\n",
       "        <path id=\"ArialMT-38\" d=\"M 1131 2484 \n",
       "Q 781 2613 612 2850 \n",
       "Q 444 3088 444 3419 \n",
       "Q 444 3919 803 4259 \n",
       "Q 1163 4600 1759 4600 \n",
       "Q 2359 4600 2725 4251 \n",
       "Q 3091 3903 3091 3403 \n",
       "Q 3091 3084 2923 2848 \n",
       "Q 2756 2613 2416 2484 \n",
       "Q 2838 2347 3058 2040 \n",
       "Q 3278 1734 3278 1309 \n",
       "Q 3278 722 2862 322 \n",
       "Q 2447 -78 1769 -78 \n",
       "Q 1091 -78 675 323 \n",
       "Q 259 725 259 1325 \n",
       "Q 259 1772 486 2073 \n",
       "Q 713 2375 1131 2484 \n",
       "z\n",
       "M 1019 3438 \n",
       "Q 1019 3113 1228 2906 \n",
       "Q 1438 2700 1772 2700 \n",
       "Q 2097 2700 2305 2904 \n",
       "Q 2513 3109 2513 3406 \n",
       "Q 2513 3716 2298 3927 \n",
       "Q 2084 4138 1766 4138 \n",
       "Q 1444 4138 1231 3931 \n",
       "Q 1019 3725 1019 3438 \n",
       "z\n",
       "M 838 1322 \n",
       "Q 838 1081 952 856 \n",
       "Q 1066 631 1291 507 \n",
       "Q 1516 384 1775 384 \n",
       "Q 2178 384 2440 643 \n",
       "Q 2703 903 2703 1303 \n",
       "Q 2703 1709 2433 1975 \n",
       "Q 2163 2241 1756 2241 \n",
       "Q 1359 2241 1098 1978 \n",
       "Q 838 1716 838 1322 \n",
       "z\n",
       "\" transform=\"scale(0.015625)\"/>\n",
       "       </defs>\n",
       "       <use xlink:href=\"#ArialMT-38\"/>\n",
       "       <use xlink:href=\"#ArialMT-30\" x=\"55.615234\"/>\n",
       "       <use xlink:href=\"#ArialMT-30\" x=\"111.230469\"/>\n",
       "      </g>\n",
       "     </g>\n",
       "    </g>\n",
       "    <g id=\"text_12\">\n",
       "     <!-- Monthly email count -->\n",
       "     <g style=\"fill: #262626\" transform=\"translate(15.789375 193.611) rotate(-90) scale(0.12 -0.12)\">\n",
       "      <defs>\n",
       "       <path id=\"ArialMT-4d\" d=\"M 475 0 \n",
       "L 475 4581 \n",
       "L 1388 4581 \n",
       "L 2472 1338 \n",
       "Q 2622 884 2691 659 \n",
       "Q 2769 909 2934 1394 \n",
       "L 4031 4581 \n",
       "L 4847 4581 \n",
       "L 4847 0 \n",
       "L 4263 0 \n",
       "L 4263 3834 \n",
       "L 2931 0 \n",
       "L 2384 0 \n",
       "L 1059 3900 \n",
       "L 1059 0 \n",
       "L 475 0 \n",
       "z\n",
       "\" transform=\"scale(0.015625)\"/>\n",
       "       <path id=\"ArialMT-6f\" d=\"M 213 1659 \n",
       "Q 213 2581 725 3025 \n",
       "Q 1153 3394 1769 3394 \n",
       "Q 2453 3394 2887 2945 \n",
       "Q 3322 2497 3322 1706 \n",
       "Q 3322 1066 3130 698 \n",
       "Q 2938 331 2570 128 \n",
       "Q 2203 -75 1769 -75 \n",
       "Q 1072 -75 642 372 \n",
       "Q 213 819 213 1659 \n",
       "z\n",
       "M 791 1659 \n",
       "Q 791 1022 1069 705 \n",
       "Q 1347 388 1769 388 \n",
       "Q 2188 388 2466 706 \n",
       "Q 2744 1025 2744 1678 \n",
       "Q 2744 2294 2464 2611 \n",
       "Q 2184 2928 1769 2928 \n",
       "Q 1347 2928 1069 2612 \n",
       "Q 791 2297 791 1659 \n",
       "z\n",
       "\" transform=\"scale(0.015625)\"/>\n",
       "       <path id=\"ArialMT-6e\" d=\"M 422 0 \n",
       "L 422 3319 \n",
       "L 928 3319 \n",
       "L 928 2847 \n",
       "Q 1294 3394 1984 3394 \n",
       "Q 2284 3394 2536 3286 \n",
       "Q 2788 3178 2913 3003 \n",
       "Q 3038 2828 3088 2588 \n",
       "Q 3119 2431 3119 2041 \n",
       "L 3119 0 \n",
       "L 2556 0 \n",
       "L 2556 2019 \n",
       "Q 2556 2363 2490 2533 \n",
       "Q 2425 2703 2258 2804 \n",
       "Q 2091 2906 1866 2906 \n",
       "Q 1506 2906 1245 2678 \n",
       "Q 984 2450 984 1813 \n",
       "L 984 0 \n",
       "L 422 0 \n",
       "z\n",
       "\" transform=\"scale(0.015625)\"/>\n",
       "       <path id=\"ArialMT-68\" d=\"M 422 0 \n",
       "L 422 4581 \n",
       "L 984 4581 \n",
       "L 984 2938 \n",
       "Q 1378 3394 1978 3394 \n",
       "Q 2347 3394 2619 3248 \n",
       "Q 2891 3103 3008 2847 \n",
       "Q 3125 2591 3125 2103 \n",
       "L 3125 0 \n",
       "L 2563 0 \n",
       "L 2563 2103 \n",
       "Q 2563 2525 2380 2717 \n",
       "Q 2197 2909 1863 2909 \n",
       "Q 1613 2909 1392 2779 \n",
       "Q 1172 2650 1078 2428 \n",
       "Q 984 2206 984 1816 \n",
       "L 984 0 \n",
       "L 422 0 \n",
       "z\n",
       "\" transform=\"scale(0.015625)\"/>\n",
       "       <path id=\"ArialMT-6c\" d=\"M 409 0 \n",
       "L 409 4581 \n",
       "L 972 4581 \n",
       "L 972 0 \n",
       "L 409 0 \n",
       "z\n",
       "\" transform=\"scale(0.015625)\"/>\n",
       "       <path id=\"ArialMT-79\" d=\"M 397 -1278 \n",
       "L 334 -750 \n",
       "Q 519 -800 656 -800 \n",
       "Q 844 -800 956 -737 \n",
       "Q 1069 -675 1141 -563 \n",
       "Q 1194 -478 1313 -144 \n",
       "Q 1328 -97 1363 -6 \n",
       "L 103 3319 \n",
       "L 709 3319 \n",
       "L 1400 1397 \n",
       "Q 1534 1031 1641 628 \n",
       "Q 1738 1016 1872 1384 \n",
       "L 2581 3319 \n",
       "L 3144 3319 \n",
       "L 1881 -56 \n",
       "Q 1678 -603 1566 -809 \n",
       "Q 1416 -1088 1222 -1217 \n",
       "Q 1028 -1347 759 -1347 \n",
       "Q 597 -1347 397 -1278 \n",
       "z\n",
       "\" transform=\"scale(0.015625)\"/>\n",
       "       <path id=\"ArialMT-20\" transform=\"scale(0.015625)\"/>\n",
       "       <path id=\"ArialMT-6d\" d=\"M 422 0 \n",
       "L 422 3319 \n",
       "L 925 3319 \n",
       "L 925 2853 \n",
       "Q 1081 3097 1340 3245 \n",
       "Q 1600 3394 1931 3394 \n",
       "Q 2300 3394 2536 3241 \n",
       "Q 2772 3088 2869 2813 \n",
       "Q 3263 3394 3894 3394 \n",
       "Q 4388 3394 4653 3120 \n",
       "Q 4919 2847 4919 2278 \n",
       "L 4919 0 \n",
       "L 4359 0 \n",
       "L 4359 2091 \n",
       "Q 4359 2428 4304 2576 \n",
       "Q 4250 2725 4106 2815 \n",
       "Q 3963 2906 3769 2906 \n",
       "Q 3419 2906 3187 2673 \n",
       "Q 2956 2441 2956 1928 \n",
       "L 2956 0 \n",
       "L 2394 0 \n",
       "L 2394 2156 \n",
       "Q 2394 2531 2256 2718 \n",
       "Q 2119 2906 1806 2906 \n",
       "Q 1569 2906 1367 2781 \n",
       "Q 1166 2656 1075 2415 \n",
       "Q 984 2175 984 1722 \n",
       "L 984 0 \n",
       "L 422 0 \n",
       "z\n",
       "\" transform=\"scale(0.015625)\"/>\n",
       "       <path id=\"ArialMT-69\" d=\"M 425 3934 \n",
       "L 425 4581 \n",
       "L 988 4581 \n",
       "L 988 3934 \n",
       "L 425 3934 \n",
       "z\n",
       "M 425 0 \n",
       "L 425 3319 \n",
       "L 988 3319 \n",
       "L 988 0 \n",
       "L 425 0 \n",
       "z\n",
       "\" transform=\"scale(0.015625)\"/>\n",
       "       <path id=\"ArialMT-63\" d=\"M 2588 1216 \n",
       "L 3141 1144 \n",
       "Q 3050 572 2676 248 \n",
       "Q 2303 -75 1759 -75 \n",
       "Q 1078 -75 664 370 \n",
       "Q 250 816 250 1647 \n",
       "Q 250 2184 428 2587 \n",
       "Q 606 2991 970 3192 \n",
       "Q 1334 3394 1763 3394 \n",
       "Q 2303 3394 2647 3120 \n",
       "Q 2991 2847 3088 2344 \n",
       "L 2541 2259 \n",
       "Q 2463 2594 2264 2762 \n",
       "Q 2066 2931 1784 2931 \n",
       "Q 1359 2931 1093 2626 \n",
       "Q 828 2322 828 1663 \n",
       "Q 828 994 1084 691 \n",
       "Q 1341 388 1753 388 \n",
       "Q 2084 388 2306 591 \n",
       "Q 2528 794 2588 1216 \n",
       "z\n",
       "\" transform=\"scale(0.015625)\"/>\n",
       "       <path id=\"ArialMT-75\" d=\"M 2597 0 \n",
       "L 2597 488 \n",
       "Q 2209 -75 1544 -75 \n",
       "Q 1250 -75 995 37 \n",
       "Q 741 150 617 320 \n",
       "Q 494 491 444 738 \n",
       "Q 409 903 409 1263 \n",
       "L 409 3319 \n",
       "L 972 3319 \n",
       "L 972 1478 \n",
       "Q 972 1038 1006 884 \n",
       "Q 1059 663 1231 536 \n",
       "Q 1403 409 1656 409 \n",
       "Q 1909 409 2131 539 \n",
       "Q 2353 669 2445 892 \n",
       "Q 2538 1116 2538 1541 \n",
       "L 2538 3319 \n",
       "L 3100 3319 \n",
       "L 3100 0 \n",
       "L 2597 0 \n",
       "z\n",
       "\" transform=\"scale(0.015625)\"/>\n",
       "      </defs>\n",
       "      <use xlink:href=\"#ArialMT-4d\"/>\n",
       "      <use xlink:href=\"#ArialMT-6f\" x=\"83.300781\"/>\n",
       "      <use xlink:href=\"#ArialMT-6e\" x=\"138.916016\"/>\n",
       "      <use xlink:href=\"#ArialMT-74\" x=\"194.53125\"/>\n",
       "      <use xlink:href=\"#ArialMT-68\" x=\"222.314453\"/>\n",
       "      <use xlink:href=\"#ArialMT-6c\" x=\"277.929688\"/>\n",
       "      <use xlink:href=\"#ArialMT-79\" x=\"300.146484\"/>\n",
       "      <use xlink:href=\"#ArialMT-20\" x=\"350.146484\"/>\n",
       "      <use xlink:href=\"#ArialMT-65\" x=\"377.929688\"/>\n",
       "      <use xlink:href=\"#ArialMT-6d\" x=\"433.544922\"/>\n",
       "      <use xlink:href=\"#ArialMT-61\" x=\"516.845703\"/>\n",
       "      <use xlink:href=\"#ArialMT-69\" x=\"572.460938\"/>\n",
       "      <use xlink:href=\"#ArialMT-6c\" x=\"594.677734\"/>\n",
       "      <use xlink:href=\"#ArialMT-20\" x=\"616.894531\"/>\n",
       "      <use xlink:href=\"#ArialMT-63\" x=\"644.677734\"/>\n",
       "      <use xlink:href=\"#ArialMT-6f\" x=\"694.677734\"/>\n",
       "      <use xlink:href=\"#ArialMT-75\" x=\"750.292969\"/>\n",
       "      <use xlink:href=\"#ArialMT-6e\" x=\"805.908203\"/>\n",
       "      <use xlink:href=\"#ArialMT-74\" x=\"861.523438\"/>\n",
       "     </g>\n",
       "    </g>\n",
       "   </g>\n",
       "   <g id=\"line2d_11\">\n",
       "    <path d=\"M 50.166094 258.080968 \n",
       "L 56.218975 245.279585 \n",
       "L 62.271856 247.892112 \n",
       "L 68.324738 237.442004 \n",
       "L 74.377619 241.8833 \n",
       "L 80.430501 245.018333 \n",
       "L 86.483382 247.108354 \n",
       "L 92.536263 248.153365 \n",
       "L 98.589145 243.712069 \n",
       "L 104.642026 245.802091 \n",
       "L 110.694907 244.495827 \n",
       "L 116.747789 243.189564 \n",
       "L 122.80067 239.793279 \n",
       "L 128.853551 233.261961 \n",
       "L 134.906433 230.910687 \n",
       "L 140.959314 223.595611 \n",
       "L 147.012195 223.856864 \n",
       "L 153.065077 241.360795 \n",
       "L 159.117958 242.144553 \n",
       "L 165.17084 242.144553 \n",
       "L 171.223721 242.667058 \n",
       "L 177.276602 222.028095 \n",
       "L 183.329484 152.273624 \n",
       "L 189.382365 136.33721 \n",
       "L 195.435246 150.444855 \n",
       "L 201.488128 164.029996 \n",
       "L 207.541009 143.652285 \n",
       "L 213.59389 90.095482 \n",
       "L 219.646772 131.373408 \n",
       "L 225.699653 147.04857 \n",
       "L 231.752534 154.886151 \n",
       "L 237.805416 154.102393 \n",
       "L 243.858297 149.399844 \n",
       "L 249.911178 96.888052 \n",
       "L 255.96406 109.950687 \n",
       "L 262.016941 83.825417 \n",
       "L 268.069823 83.041659 \n",
       "L 274.122704 60.051421 \n",
       "L 280.175585 61.096432 \n",
       "L 286.228467 30.529866 \n",
       "L 292.281348 19.296 \n",
       "L 298.334229 57.177641 \n",
       "L 304.387111 59.528916 \n",
       "L 310.439992 63.186454 \n",
       "L 316.492873 77.555352 \n",
       "L 322.545755 71.807793 \n",
       "L 328.598636 126.148354 \n",
       "L 334.651517 97.67181 \n",
       "L 340.704399 122.229564 \n",
       "L 346.75728 87.221702 \n",
       "L 352.810162 103.419369 \n",
       "L 358.863043 102.635611 \n",
       "L 364.915924 61.88019 \n",
       "L 370.968806 78.861616 \n",
       "L 377.021687 58.222652 \n",
       "L 383.074568 75.726583 \n",
       "L 389.12745 86.699197 \n",
       "L 395.180331 75.46533 \n",
       "L 401.233212 92.708009 \n",
       "L 407.286094 156.71492 \n",
       "\" clip-path=\"url(#p8ac4f01dd3)\" style=\"fill: none; stroke: #55a868; stroke-width: 1.5; stroke-linecap: round\"/>\n",
       "   </g>\n",
       "   <g id=\"line2d_12\">\n",
       "    <path d=\"M 62.271856 260.954747 \n",
       "L 68.324738 261.216 \n",
       "L 74.377619 261.216 \n",
       "L 80.430501 261.216 \n",
       "L 86.483382 261.216 \n",
       "L 92.536263 261.216 \n",
       "L 98.589145 261.216 \n",
       "L 104.642026 261.216 \n",
       "L 110.694907 261.216 \n",
       "L 116.747789 261.216 \n",
       "L 122.80067 261.216 \n",
       "L 128.853551 261.216 \n",
       "L 134.906433 260.954747 \n",
       "L 140.959314 261.216 \n",
       "L 147.012195 260.954747 \n",
       "L 153.065077 261.216 \n",
       "L 159.117958 261.216 \n",
       "L 165.17084 261.216 \n",
       "L 171.223721 261.216 \n",
       "L 177.276602 261.216 \n",
       "L 183.329484 260.693495 \n",
       "L 189.382365 259.387231 \n",
       "L 195.435246 258.603473 \n",
       "L 201.488128 259.648484 \n",
       "L 207.541009 261.216 \n",
       "L 213.59389 260.432242 \n",
       "L 219.646772 261.216 \n",
       "L 225.699653 261.216 \n",
       "L 231.752534 261.216 \n",
       "L 237.805416 261.216 \n",
       "L 243.858297 260.693495 \n",
       "L 249.911178 261.216 \n",
       "L 255.96406 260.954747 \n",
       "L 262.016941 260.954747 \n",
       "L 268.069823 260.432242 \n",
       "L 274.122704 261.216 \n",
       "L 280.175585 260.954747 \n",
       "L 286.228467 261.216 \n",
       "L 292.281348 259.909737 \n",
       "L 298.334229 260.693495 \n",
       "L 304.387111 260.693495 \n",
       "L 310.439992 261.216 \n",
       "L 316.492873 260.954747 \n",
       "L 322.545755 261.216 \n",
       "L 328.598636 260.432242 \n",
       "L 334.651517 259.387231 \n",
       "L 340.704399 261.216 \n",
       "L 346.75728 260.954747 \n",
       "L 352.810162 260.432242 \n",
       "L 358.863043 261.216 \n",
       "L 364.915924 261.216 \n",
       "L 370.968806 261.216 \n",
       "L 377.021687 261.216 \n",
       "L 383.074568 261.216 \n",
       "L 389.12745 261.216 \n",
       "L 395.180331 261.216 \n",
       "L 401.233212 255.468441 \n",
       "L 407.286094 260.693495 \n",
       "\" clip-path=\"url(#p8ac4f01dd3)\" style=\"fill: none; stroke: #c44e52; stroke-width: 1.5; stroke-linecap: round\"/>\n",
       "   </g>\n",
       "   <g id=\"patch_3\">\n",
       "    <path d=\"M 50.166094 273.312 \n",
       "L 50.166094 7.2 \n",
       "\" style=\"fill: none; stroke: #ffffff; stroke-width: 1.25; stroke-linejoin: miter; stroke-linecap: square\"/>\n",
       "   </g>\n",
       "   <g id=\"patch_4\">\n",
       "    <path d=\"M 407.286094 273.312 \n",
       "L 407.286094 7.2 \n",
       "\" style=\"fill: none; stroke: #ffffff; stroke-width: 1.25; stroke-linejoin: miter; stroke-linecap: square\"/>\n",
       "   </g>\n",
       "   <g id=\"patch_5\">\n",
       "    <path d=\"M 50.166094 273.312 \n",
       "L 407.286094 273.312 \n",
       "\" style=\"fill: none; stroke: #ffffff; stroke-width: 1.25; stroke-linejoin: miter; stroke-linecap: square\"/>\n",
       "   </g>\n",
       "   <g id=\"patch_6\">\n",
       "    <path d=\"M 50.166094 7.2 \n",
       "L 407.286094 7.2 \n",
       "\" style=\"fill: none; stroke: #ffffff; stroke-width: 1.25; stroke-linejoin: miter; stroke-linecap: square\"/>\n",
       "   </g>\n",
       "   <g id=\"legend_1\">\n",
       "    <g id=\"patch_7\">\n",
       "     <path d=\"M 57.866094 47.3775 \n",
       "L 171.925781 47.3775 \n",
       "Q 174.125781 47.3775 174.125781 45.1775 \n",
       "L 174.125781 14.9 \n",
       "Q 174.125781 12.7 171.925781 12.7 \n",
       "L 57.866094 12.7 \n",
       "Q 55.666094 12.7 55.666094 14.9 \n",
       "L 55.666094 45.1775 \n",
       "Q 55.666094 47.3775 57.866094 47.3775 \n",
       "z\n",
       "\" style=\"fill: #ffffff; opacity: 0.8; stroke: #ffffff; stroke-linejoin: miter\"/>\n",
       "    </g>\n",
       "    <g id=\"line2d_13\">\n",
       "     <path d=\"M 60.066094 21.123594 \n",
       "L 71.066094 21.123594 \n",
       "L 82.066094 21.123594 \n",
       "\" style=\"fill: none; stroke: #55a868; stroke-width: 1.5; stroke-linecap: round\"/>\n",
       "    </g>\n",
       "    <g id=\"text_13\">\n",
       "     <!-- incoming emails -->\n",
       "     <g style=\"fill: #262626\" transform=\"translate(90.866094 24.973594) scale(0.11 -0.11)\">\n",
       "      <defs>\n",
       "       <path id=\"ArialMT-67\" d=\"M 319 -275 \n",
       "L 866 -356 \n",
       "Q 900 -609 1056 -725 \n",
       "Q 1266 -881 1628 -881 \n",
       "Q 2019 -881 2231 -725 \n",
       "Q 2444 -569 2519 -288 \n",
       "Q 2563 -116 2559 434 \n",
       "Q 2191 0 1641 0 \n",
       "Q 956 0 581 494 \n",
       "Q 206 988 206 1678 \n",
       "Q 206 2153 378 2554 \n",
       "Q 550 2956 876 3175 \n",
       "Q 1203 3394 1644 3394 \n",
       "Q 2231 3394 2613 2919 \n",
       "L 2613 3319 \n",
       "L 3131 3319 \n",
       "L 3131 450 \n",
       "Q 3131 -325 2973 -648 \n",
       "Q 2816 -972 2473 -1159 \n",
       "Q 2131 -1347 1631 -1347 \n",
       "Q 1038 -1347 672 -1080 \n",
       "Q 306 -813 319 -275 \n",
       "z\n",
       "M 784 1719 \n",
       "Q 784 1066 1043 766 \n",
       "Q 1303 466 1694 466 \n",
       "Q 2081 466 2343 764 \n",
       "Q 2606 1063 2606 1700 \n",
       "Q 2606 2309 2336 2618 \n",
       "Q 2066 2928 1684 2928 \n",
       "Q 1309 2928 1046 2623 \n",
       "Q 784 2319 784 1719 \n",
       "z\n",
       "\" transform=\"scale(0.015625)\"/>\n",
       "       <path id=\"ArialMT-73\" d=\"M 197 991 \n",
       "L 753 1078 \n",
       "Q 800 744 1014 566 \n",
       "Q 1228 388 1613 388 \n",
       "Q 2000 388 2187 545 \n",
       "Q 2375 703 2375 916 \n",
       "Q 2375 1106 2209 1216 \n",
       "Q 2094 1291 1634 1406 \n",
       "Q 1016 1563 777 1677 \n",
       "Q 538 1791 414 1992 \n",
       "Q 291 2194 291 2438 \n",
       "Q 291 2659 392 2848 \n",
       "Q 494 3038 669 3163 \n",
       "Q 800 3259 1026 3326 \n",
       "Q 1253 3394 1513 3394 \n",
       "Q 1903 3394 2198 3281 \n",
       "Q 2494 3169 2634 2976 \n",
       "Q 2775 2784 2828 2463 \n",
       "L 2278 2388 \n",
       "Q 2241 2644 2061 2787 \n",
       "Q 1881 2931 1553 2931 \n",
       "Q 1166 2931 1000 2803 \n",
       "Q 834 2675 834 2503 \n",
       "Q 834 2394 903 2306 \n",
       "Q 972 2216 1119 2156 \n",
       "Q 1203 2125 1616 2013 \n",
       "Q 2213 1853 2448 1751 \n",
       "Q 2684 1650 2818 1456 \n",
       "Q 2953 1263 2953 975 \n",
       "Q 2953 694 2789 445 \n",
       "Q 2625 197 2315 61 \n",
       "Q 2006 -75 1616 -75 \n",
       "Q 969 -75 630 194 \n",
       "Q 291 463 197 991 \n",
       "z\n",
       "\" transform=\"scale(0.015625)\"/>\n",
       "      </defs>\n",
       "      <use xlink:href=\"#ArialMT-69\"/>\n",
       "      <use xlink:href=\"#ArialMT-6e\" x=\"22.216797\"/>\n",
       "      <use xlink:href=\"#ArialMT-63\" x=\"77.832031\"/>\n",
       "      <use xlink:href=\"#ArialMT-6f\" x=\"127.832031\"/>\n",
       "      <use xlink:href=\"#ArialMT-6d\" x=\"183.447266\"/>\n",
       "      <use xlink:href=\"#ArialMT-69\" x=\"266.748047\"/>\n",
       "      <use xlink:href=\"#ArialMT-6e\" x=\"288.964844\"/>\n",
       "      <use xlink:href=\"#ArialMT-67\" x=\"344.580078\"/>\n",
       "      <use xlink:href=\"#ArialMT-20\" x=\"400.195312\"/>\n",
       "      <use xlink:href=\"#ArialMT-65\" x=\"427.978516\"/>\n",
       "      <use xlink:href=\"#ArialMT-6d\" x=\"483.59375\"/>\n",
       "      <use xlink:href=\"#ArialMT-61\" x=\"566.894531\"/>\n",
       "      <use xlink:href=\"#ArialMT-69\" x=\"622.509766\"/>\n",
       "      <use xlink:href=\"#ArialMT-6c\" x=\"644.726562\"/>\n",
       "      <use xlink:href=\"#ArialMT-73\" x=\"666.943359\"/>\n",
       "     </g>\n",
       "    </g>\n",
       "    <g id=\"line2d_14\">\n",
       "     <path d=\"M 60.066094 36.812344 \n",
       "L 71.066094 36.812344 \n",
       "L 82.066094 36.812344 \n",
       "\" style=\"fill: none; stroke: #c44e52; stroke-width: 1.5; stroke-linecap: round\"/>\n",
       "    </g>\n",
       "    <g id=\"text_14\">\n",
       "     <!-- outgoing emails -->\n",
       "     <g style=\"fill: #262626\" transform=\"translate(90.866094 40.662344) scale(0.11 -0.11)\">\n",
       "      <use xlink:href=\"#ArialMT-6f\"/>\n",
       "      <use xlink:href=\"#ArialMT-75\" x=\"55.615234\"/>\n",
       "      <use xlink:href=\"#ArialMT-74\" x=\"111.230469\"/>\n",
       "      <use xlink:href=\"#ArialMT-67\" x=\"139.013672\"/>\n",
       "      <use xlink:href=\"#ArialMT-6f\" x=\"194.628906\"/>\n",
       "      <use xlink:href=\"#ArialMT-69\" x=\"250.244141\"/>\n",
       "      <use xlink:href=\"#ArialMT-6e\" x=\"272.460938\"/>\n",
       "      <use xlink:href=\"#ArialMT-67\" x=\"328.076172\"/>\n",
       "      <use xlink:href=\"#ArialMT-20\" x=\"383.691406\"/>\n",
       "      <use xlink:href=\"#ArialMT-65\" x=\"411.474609\"/>\n",
       "      <use xlink:href=\"#ArialMT-6d\" x=\"467.089844\"/>\n",
       "      <use xlink:href=\"#ArialMT-61\" x=\"550.390625\"/>\n",
       "      <use xlink:href=\"#ArialMT-69\" x=\"606.005859\"/>\n",
       "      <use xlink:href=\"#ArialMT-6c\" x=\"628.222656\"/>\n",
       "      <use xlink:href=\"#ArialMT-73\" x=\"650.439453\"/>\n",
       "     </g>\n",
       "    </g>\n",
       "   </g>\n",
       "  </g>\n",
       " </g>\n",
       " <defs>\n",
       "  <clipPath id=\"p8ac4f01dd3\">\n",
       "   <rect x=\"50.166094\" y=\"7.2\" width=\"357.12\" height=\"266.112\"/>\n",
       "  </clipPath>\n",
       " </defs>\n",
       "</svg>\n"
      ],
      "text/plain": [
       "<Figure size 640x480 with 1 Axes>"
      ]
     },
     "metadata": {},
     "output_type": "display_data"
    }
   ],
   "source": [
    "monthly_in = data_in['count'].resample('M').sum()\n",
    "monthly_out= data_out['count'].resample('M').sum()\n",
    "monthly_in.plot(color='g', label='incoming emails')\n",
    "monthly_out.plot(color='r', label='outgoing emails')\n",
    "plt.ylabel('Monthly email count')\n",
    "plt.legend(loc='upper left', frameon=True).get_frame().set_color('white');"
   ]
  },
  {
   "cell_type": "markdown",
   "metadata": {
    "id": "cawBPmt2Xx9F"
   },
   "source": [
    "It can be seen that most of the time the number of received emails is greater than the number of emails sent."
   ]
  },
  {
   "cell_type": "markdown",
   "metadata": {
    "id": "t1Lqkh5rYL9A"
   },
   "source": [
    "## **2. Busy days**\n",
    "\n",
    "We can now try to identify email activity vs. day of the week. We use the `timestamp` method `weekday()`, which returns an index [0....6] corresponding to the days of the from Monday to Sunday."
   ]
  },
  {
   "cell_type": "code",
   "execution_count": 34,
   "metadata": {
    "executionInfo": {
     "elapsed": 627,
     "status": "ok",
     "timestamp": 1710693491740,
     "user": {
      "displayName": "Krishnan Hariharan",
      "userId": "05337437693880879682"
     },
     "user_tz": -330
    },
    "id": "PdKuvW7OYO-m"
   },
   "outputs": [],
   "source": [
    "dow = []\n",
    "for i in range(len(df)):\n",
    "    dow.append(df['date'][i].weekday())"
   ]
  },
  {
   "cell_type": "markdown",
   "metadata": {
    "id": "LxKf0ZNBYUnK"
   },
   "source": [
    "Create new `series` with the day of the week of the message"
   ]
  },
  {
   "cell_type": "code",
   "execution_count": 35,
   "metadata": {
    "colab": {
     "base_uri": "https://localhost:8080/",
     "height": 174
    },
    "executionInfo": {
     "elapsed": 13,
     "status": "ok",
     "timestamp": 1710693493199,
     "user": {
      "displayName": "Krishnan Hariharan",
      "userId": "05337437693880879682"
     },
     "user_tz": -330
    },
    "id": "PdxMcvtQYVMQ",
    "outputId": "da13b1cc-5a3d-408a-9416-f8daefa935ac"
   },
   "outputs": [
    {
     "data": {
      "text/html": [
       "<div>\n",
       "<style scoped>\n",
       "    .dataframe tbody tr th:only-of-type {\n",
       "        vertical-align: middle;\n",
       "    }\n",
       "\n",
       "    .dataframe tbody tr th {\n",
       "        vertical-align: top;\n",
       "    }\n",
       "\n",
       "    .dataframe thead th {\n",
       "        text-align: right;\n",
       "    }\n",
       "</style>\n",
       "<table border=\"1\" class=\"dataframe\">\n",
       "  <thead>\n",
       "    <tr style=\"text-align: right;\">\n",
       "      <th></th>\n",
       "      <th>subject</th>\n",
       "      <th>date</th>\n",
       "      <th>dow</th>\n",
       "      <th>label</th>\n",
       "    </tr>\n",
       "  </thead>\n",
       "  <tbody>\n",
       "    <tr>\n",
       "      <th>0</th>\n",
       "      <td>Security alert</td>\n",
       "      <td>2024-03-23 07:44:26+00:00</td>\n",
       "      <td>5</td>\n",
       "      <td>Inbox,Category updates,Unread</td>\n",
       "    </tr>\n",
       "    <tr>\n",
       "      <th>1</th>\n",
       "      <td>Security alert for jmdgameing@gmail.com</td>\n",
       "      <td>2024-03-23 06:29:18+00:00</td>\n",
       "      <td>5</td>\n",
       "      <td>Inbox,Category updates,Unread</td>\n",
       "    </tr>\n",
       "    <tr>\n",
       "      <th>2</th>\n",
       "      <td>Security alert for jmdgameing@gmail.com</td>\n",
       "      <td>2024-03-23 06:17:48+00:00</td>\n",
       "      <td>5</td>\n",
       "      <td>Inbox,Category updates,Unread</td>\n",
       "    </tr>\n",
       "    <tr>\n",
       "      <th>3</th>\n",
       "      <td>Security alert for jmdgameing@gmail.com</td>\n",
       "      <td>2024-03-23 06:14:51+00:00</td>\n",
       "      <td>5</td>\n",
       "      <td>Inbox,Category updates,Unread</td>\n",
       "    </tr>\n",
       "  </tbody>\n",
       "</table>\n",
       "</div>"
      ],
      "text/plain": [
       "                                   subject                      date  dow  \\\n",
       "0                           Security alert 2024-03-23 07:44:26+00:00    5   \n",
       "1  Security alert for jmdgameing@gmail.com 2024-03-23 06:29:18+00:00    5   \n",
       "2  Security alert for jmdgameing@gmail.com 2024-03-23 06:17:48+00:00    5   \n",
       "3  Security alert for jmdgameing@gmail.com 2024-03-23 06:14:51+00:00    5   \n",
       "\n",
       "                           label  \n",
       "0  Inbox,Category updates,Unread  \n",
       "1  Inbox,Category updates,Unread  \n",
       "2  Inbox,Category updates,Unread  \n",
       "3  Inbox,Category updates,Unread  "
      ]
     },
     "execution_count": 35,
     "metadata": {},
     "output_type": "execute_result"
    }
   ],
   "source": [
    "df['dow'] = dow\n",
    "df[['subject', 'date', 'dow', 'label']].head(4)"
   ]
  },
  {
   "cell_type": "code",
   "execution_count": 36,
   "metadata": {
    "executionInfo": {
     "elapsed": 422,
     "status": "ok",
     "timestamp": 1710693496012,
     "user": {
      "displayName": "Krishnan Hariharan",
      "userId": "05337437693880879682"
     },
     "user_tz": -330
    },
    "id": "XjXYa9DDVAP7"
   },
   "outputs": [],
   "source": [
    "df_in = df[df['to'] == 'me']\n",
    "df_out = df[df['from'] == 'me']"
   ]
  },
  {
   "cell_type": "markdown",
   "metadata": {
    "id": "e12QPKg7YpcQ"
   },
   "source": [
    "We can now get the distribution of messages per day of the week. For this a dictionary can easily capture the frequency of messages on each day"
   ]
  },
  {
   "cell_type": "code",
   "execution_count": 37,
   "metadata": {
    "executionInfo": {
     "elapsed": 414,
     "status": "ok",
     "timestamp": 1710693501131,
     "user": {
      "displayName": "Krishnan Hariharan",
      "userId": "05337437693880879682"
     },
     "user_tz": -330
    },
    "id": "h7HDuqStYp5_"
   },
   "outputs": [],
   "source": [
    "dow_in, dow_out = {}, {}\n",
    "for i in range(7):\n",
    "    dow_in[i] = 0\n",
    "    dow_out[i] = 0\n",
    "for i in df_in['dow']:\n",
    "    dow_in[i] += 1\n",
    "for i in df_out['dow']:\n",
    "    dow_out[i] += 1"
   ]
  },
  {
   "cell_type": "code",
   "execution_count": 6,
   "metadata": {
    "colab": {
     "base_uri": "https://localhost:8080/",
     "height": 448
    },
    "executionInfo": {
     "elapsed": 1337,
     "status": "ok",
     "timestamp": 1710693520859,
     "user": {
      "displayName": "Krishnan Hariharan",
      "userId": "05337437693880879682"
     },
     "user_tz": -330
    },
    "id": "ptZq9qspVAuA",
    "outputId": "b38fe960-84ff-4132-89fc-8b490be144df"
   },
   "outputs": [
    {
     "ename": "NameError",
     "evalue": "name 'dow_in' is not defined",
     "output_type": "error",
     "traceback": [
      "\u001b[1;31m---------------------------------------------------------------------------\u001b[0m",
      "\u001b[1;31mNameError\u001b[0m                                 Traceback (most recent call last)",
      "Cell \u001b[1;32mIn[6], line 2\u001b[0m\n\u001b[0;32m      1\u001b[0m x, y_in, y_out, y_all \u001b[38;5;241m=\u001b[39m [], [], [], []\n\u001b[1;32m----> 2\u001b[0m \u001b[38;5;28;01mfor\u001b[39;00m key \u001b[38;5;129;01min\u001b[39;00m dow_in\u001b[38;5;241m.\u001b[39mkeys():\n\u001b[0;32m      3\u001b[0m     x\u001b[38;5;241m.\u001b[39mappend(key)\n\u001b[0;32m      4\u001b[0m     y_in\u001b[38;5;241m.\u001b[39mappend(dow_in[key])\n",
      "\u001b[1;31mNameError\u001b[0m: name 'dow_in' is not defined"
     ]
    }
   ],
   "source": [
    "x, y_in, y_out, y_all = [], [], [], []\n",
    "for key in dow_in.keys():\n",
    "    x.append(key)\n",
    "    y_in.append(dow_in[key])\n",
    "    y_out.append(dow_out[key])\n",
    "    y_all.append(dow_in[key] + dow_out[key])\n",
    "\n",
    "plt.plot(x, y_in, 'o-', color='g', label='incoming emails')\n",
    "plt.plot(x, y_out, 'o-', color='r', label='outgoing emails')\n",
    "plt.axis([-0.5, 6.5, 0, 500])\n",
    "plt.xlabel('day of the week')\n",
    "plt.ylabel('number of messages')\n",
    "days = ['Monday', 'Tuesday', 'Wednesday', 'Thursday', 'Friday', 'Saturday', 'Sunday']\n",
    "plt.xticks(x, days)\n",
    "plt.legend(frameon=True).get_frame().set_color('white');"
   ]
  },
  {
   "cell_type": "code",
   "execution_count": 7,
   "metadata": {},
   "outputs": [
    {
     "ename": "NameError",
     "evalue": "name 'df' is not defined",
     "output_type": "error",
     "traceback": [
      "\u001b[1;31m---------------------------------------------------------------------------\u001b[0m",
      "\u001b[1;31mNameError\u001b[0m                                 Traceback (most recent call last)",
      "Cell \u001b[1;32mIn[7], line 2\u001b[0m\n\u001b[0;32m      1\u001b[0m dow \u001b[38;5;241m=\u001b[39m []\n\u001b[1;32m----> 2\u001b[0m \u001b[38;5;28;01mfor\u001b[39;00m i \u001b[38;5;129;01min\u001b[39;00m \u001b[38;5;28mrange\u001b[39m(\u001b[38;5;28mlen\u001b[39m(df)):\n\u001b[0;32m      3\u001b[0m     dow\u001b[38;5;241m.\u001b[39mappend(df[\u001b[38;5;124m'\u001b[39m\u001b[38;5;124mdate\u001b[39m\u001b[38;5;124m'\u001b[39m][i]\u001b[38;5;241m.\u001b[39mweekday()) \n\u001b[0;32m      4\u001b[0m df[\u001b[38;5;124m'\u001b[39m\u001b[38;5;124mdow\u001b[39m\u001b[38;5;124m'\u001b[39m] \u001b[38;5;241m=\u001b[39m dow\n",
      "\u001b[1;31mNameError\u001b[0m: name 'df' is not defined"
     ]
    }
   ],
   "source": [
    "\n",
    "dow = []\n",
    "for i in range(len(df)):\n",
    "    dow.append(df['date'][i].weekday()) \n",
    "df['dow'] = dow\n",
    "\n",
    "\n",
    "df_in = df[df['to'] == 'me']\n",
    "df_out = df[df['from'] == 'me']\n",
    "\n",
    "\n",
    "dow_in_hours = {h: 0 for h in range(24)}\n",
    "dow_out_hours = {h: 0 for h in range(24)}\n",
    "\n",
    "\n",
    "for i in df_in['date']:\n",
    "    dow_in_hours[i.hour] += 1\n",
    "\n",
    "for i in df_out['date']:\n",
    "    dow_out_hours[i.hour] += 1\n",
    "\n",
    "\n",
    "x_hours = list(range(24))  \n",
    "y_in_hours = [dow_in_hours[hour] for hour in x_hours]  \n",
    "y_out_hours = [dow_out_hours[hour] for hour in x_hours] \n",
    "\n",
    "plt.figure(figsize=(20, 10))  \n",
    "plt.plot(x_hours, y_in_hours, 'o-', color='g', label='incoming emails')\n",
    "plt.plot(x_hours, y_out_hours, 'o-', color='r', label='outgoing emails')\n",
    "plt.xlabel('Hour of the day')\n",
    "plt.ylabel('Number of messages')\n",
    "plt.xticks(x_hours, labels=[str(h) + ':00' for h in x_hours])  \n",
    "plt.legend(frameon=True).get_frame().set_color('white')\n",
    "plt.grid(True)\n",
    "plt.show()"
   ]
  },
  {
   "cell_type": "markdown",
   "metadata": {
    "id": "_9lQPZlnaSQZ"
   },
   "source": [
    "This plot shows clearly that the activity is quite uniform during the week days and it decreases during the weekens, as sort of expected."
   ]
  },
  {
   "cell_type": "markdown",
   "metadata": {
    "id": "iuvJ7CmpagIe"
   },
   "source": [
    "## **3. Frequent contacts**\n",
    "Another immediate question that can be answered with this data is regarding the most frequent contacts I have received messages from and those to whom I have written the most. Just as done earlier with my email address that was replaced by the string `me`."
   ]
  },
  {
   "cell_type": "markdown",
   "metadata": {
    "id": "CszUsaKc2E1b"
   },
   "source": [
    "***For the privacy of my contacts (I prefer not to post their email address) can be protected by creating a function that can replace their contact information with a nickname.***"
   ]
  },
  {
   "cell_type": "code",
   "execution_count": 8,
   "metadata": {
    "executionInfo": {
     "elapsed": 652,
     "status": "ok",
     "timestamp": 1710693532504,
     "user": {
      "displayName": "Krishnan Hariharan",
      "userId": "05337437693880879682"
     },
     "user_tz": -330
    },
    "id": "Yp1He70nGlB-"
   },
   "outputs": [],
   "source": [
    "def nickname(txt, list_to_rename, new_name):\n",
    "    txt = str(txt)\n",
    "    for name in list_to_rename:\n",
    "        if name in txt.lower():\n",
    "            txt_out = new_name\n",
    "            break\n",
    "        else:\n",
    "            txt_out = txt\n",
    "    return txt_out"
   ]
  },
  {
   "cell_type": "markdown",
   "metadata": {
    "id": "g0cYrbeXGqy1"
   },
   "source": [
    "where `txt` is the text where the names on the list `list_to_rename` are been searched, if found they will be replaced by the nickname `new_name`.This is done for a few frequent contacts."
   ]
  },
  {
   "cell_type": "code",
   "execution_count": null,
   "metadata": {
    "executionInfo": {
     "elapsed": 431,
     "status": "ok",
     "timestamp": 1710693209969,
     "user": {
      "displayName": "Krishnan Hariharan",
      "userId": "05337437693880879682"
     },
     "user_tz": -330
    },
    "id": "1qmj84SfE-WU"
   },
   "outputs": [],
   "source": []
  },
  {
   "cell_type": "markdown",
   "metadata": {
    "id": "qjxqFC3DcnRI"
   },
   "source": [
    "The most frequent contacts that I have written to are"
   ]
  },
  {
   "cell_type": "code",
   "execution_count": 9,
   "metadata": {
    "colab": {
     "base_uri": "https://localhost:8080/"
    },
    "executionInfo": {
     "elapsed": 387,
     "status": "ok",
     "timestamp": 1710693749755,
     "user": {
      "displayName": "Krishnan Hariharan",
      "userId": "05337437693880879682"
     },
     "user_tz": -330
    },
    "id": "PrXAtE_TaS6D",
    "outputId": "a563c4fd-0d1d-4167-f8b3-ac1ff787949b"
   },
   "outputs": [
    {
     "ename": "NameError",
     "evalue": "name 'df' is not defined",
     "output_type": "error",
     "traceback": [
      "\u001b[1;31m---------------------------------------------------------------------------\u001b[0m",
      "\u001b[1;31mNameError\u001b[0m                                 Traceback (most recent call last)",
      "Cell \u001b[1;32mIn[9], line 3\u001b[0m\n\u001b[0;32m      1\u001b[0m \u001b[38;5;66;03m# Exclude recipients to be removed\u001b[39;00m\n\u001b[0;32m      2\u001b[0m excluded_recipients \u001b[38;5;241m=\u001b[39m [\u001b[38;5;124m'\u001b[39m\u001b[38;5;124mnipm\u001b[39m\u001b[38;5;124m'\u001b[39m]\n\u001b[1;32m----> 3\u001b[0m filtered_counts \u001b[38;5;241m=\u001b[39m df[\u001b[38;5;124m'\u001b[39m\u001b[38;5;124mto\u001b[39m\u001b[38;5;124m'\u001b[39m][\u001b[38;5;241m~\u001b[39mdf[\u001b[38;5;124m'\u001b[39m\u001b[38;5;124mto\u001b[39m\u001b[38;5;124m'\u001b[39m]\u001b[38;5;241m.\u001b[39misin(excluded_recipients)]\u001b[38;5;241m.\u001b[39mvalue_counts()\n\u001b[0;32m      5\u001b[0m \u001b[38;5;66;03m# Print the counts\u001b[39;00m\n\u001b[0;32m      6\u001b[0m \u001b[38;5;28mprint\u001b[39m(filtered_counts[\u001b[38;5;241m1\u001b[39m:\u001b[38;5;241m10\u001b[39m])\n",
      "\u001b[1;31mNameError\u001b[0m: name 'df' is not defined"
     ]
    }
   ],
   "source": [
    "# Exclude recipients to be removed\n",
    "excluded_recipients = ['nipm']\n",
    "filtered_counts = df['to'][~df['to'].isin(excluded_recipients)].value_counts()\n",
    "\n",
    "# Print the counts\n",
    "print(filtered_counts[1:10])"
   ]
  },
  {
   "cell_type": "markdown",
   "metadata": {
    "id": "oQoEPMYCdDNf"
   },
   "source": [
    "This shows the count of emails which were sent. All these results can be visualized"
   ]
  },
  {
   "cell_type": "code",
   "execution_count": 10,
   "metadata": {
    "colab": {
     "base_uri": "https://localhost:8080/",
     "height": 658
    },
    "executionInfo": {
     "elapsed": 1238,
     "status": "ok",
     "timestamp": 1710693827994,
     "user": {
      "displayName": "Krishnan Hariharan",
      "userId": "05337437693880879682"
     },
     "user_tz": -330
    },
    "id": "lzkY8WufdKCW",
    "outputId": "cede6196-c970-4f52-de4b-1a183b12f5fa"
   },
   "outputs": [
    {
     "ename": "NameError",
     "evalue": "name 'df' is not defined",
     "output_type": "error",
     "traceback": [
      "\u001b[1;31m---------------------------------------------------------------------------\u001b[0m",
      "\u001b[1;31mNameError\u001b[0m                                 Traceback (most recent call last)",
      "Cell \u001b[1;32mIn[10], line 1\u001b[0m\n\u001b[1;32m----> 1\u001b[0m df_top10 \u001b[38;5;241m=\u001b[39m df[\u001b[38;5;124m'\u001b[39m\u001b[38;5;124mto\u001b[39m\u001b[38;5;124m'\u001b[39m]\u001b[38;5;241m.\u001b[39mvalue_counts()[\u001b[38;5;241m1\u001b[39m:\u001b[38;5;241m11\u001b[39m]\u001b[38;5;241m.\u001b[39mreset_index()\n\u001b[0;32m      2\u001b[0m df_top10\u001b[38;5;241m.\u001b[39mcolumns \u001b[38;5;241m=\u001b[39m [\u001b[38;5;124m'\u001b[39m\u001b[38;5;124mto\u001b[39m\u001b[38;5;124m'\u001b[39m, \u001b[38;5;124m'\u001b[39m\u001b[38;5;124mcount\u001b[39m\u001b[38;5;124m'\u001b[39m]\n\u001b[0;32m      4\u001b[0m sns\u001b[38;5;241m.\u001b[39mset_style(\u001b[38;5;124m\"\u001b[39m\u001b[38;5;124mwhitegrid\u001b[39m\u001b[38;5;124m\"\u001b[39m)\n",
      "\u001b[1;31mNameError\u001b[0m: name 'df' is not defined"
     ]
    }
   ],
   "source": [
    "df_top10 = df['to'].value_counts()[1:11].reset_index()\n",
    "df_top10.columns = ['to', 'count']\n",
    "\n",
    "sns.set_style(\"whitegrid\")\n",
    "sns.set_color_codes(\"pastel\")\n",
    "plt.figure(figsize=(10, 6))\n",
    "sns.barplot(x='count', y='to', data=df_top10, palette='Greens_d')\n",
    "plt.title('Top 10 Most Common Email Recipients')\n",
    "plt.xlabel('Number of Emails')\n",
    "plt.ylabel('Recipient Email Address')\n",
    "\n",
    "sns.despine(left=True, bottom=True)\n",
    "plt.show()\n"
   ]
  },
  {
   "cell_type": "markdown",
   "metadata": {
    "id": "PU_KJb1uc3BY"
   },
   "source": [
    ":Now we can check from whom i received most number of emails. But the problem with the from email is duplicate email IDs. *`Eg - no-reply@ncp.flipkart.com and no-reply@ncb.flipkart.com`* they both are same but if we count the number of\n",
    "emails both the email IDs will show seperate counts. So for this we can create\n",
    "nicknames just the way we created for sent mails."
   ]
  },
  {
   "cell_type": "code",
   "execution_count": 11,
   "metadata": {
    "colab": {
     "base_uri": "https://localhost:8080/"
    },
    "executionInfo": {
     "elapsed": 359,
     "status": "ok",
     "timestamp": 1710693859341,
     "user": {
      "displayName": "Krishnan Hariharan",
      "userId": "05337437693880879682"
     },
     "user_tz": -330
    },
    "id": "M2ddhCX5cWhG",
    "outputId": "7968c3b6-e7b6-49d2-dde0-a544b79d8b3c"
   },
   "outputs": [
    {
     "ename": "NameError",
     "evalue": "name 'df' is not defined",
     "output_type": "error",
     "traceback": [
      "\u001b[1;31m---------------------------------------------------------------------------\u001b[0m",
      "\u001b[1;31mNameError\u001b[0m                                 Traceback (most recent call last)",
      "Cell \u001b[1;32mIn[11], line 1\u001b[0m\n\u001b[1;32m----> 1\u001b[0m df[\u001b[38;5;124m'\u001b[39m\u001b[38;5;124mfrom\u001b[39m\u001b[38;5;124m'\u001b[39m]\u001b[38;5;241m.\u001b[39mvalue_counts()[\u001b[38;5;241m1\u001b[39m:\u001b[38;5;241m8\u001b[39m]\n",
      "\u001b[1;31mNameError\u001b[0m: name 'df' is not defined"
     ]
    }
   ],
   "source": [
    "df['from'].value_counts()[1:8]"
   ]
  },
  {
   "cell_type": "markdown",
   "metadata": {
    "id": "W4jXc3sKJDlA"
   },
   "source": [
    "This shows the count of emails which were received. All these results can be visualized"
   ]
  },
  {
   "cell_type": "code",
   "execution_count": 12,
   "metadata": {
    "colab": {
     "base_uri": "https://localhost:8080/",
     "height": 728
    },
    "executionInfo": {
     "elapsed": 1752,
     "status": "ok",
     "timestamp": 1710693884723,
     "user": {
      "displayName": "Krishnan Hariharan",
      "userId": "05337437693880879682"
     },
     "user_tz": -330
    },
    "id": "PNyKHTf3dRiB",
    "outputId": "bc046578-92ff-4fc6-cb46-36b7dfb96130"
   },
   "outputs": [
    {
     "ename": "NameError",
     "evalue": "name 'df' is not defined",
     "output_type": "error",
     "traceback": [
      "\u001b[1;31m---------------------------------------------------------------------------\u001b[0m",
      "\u001b[1;31mNameError\u001b[0m                                 Traceback (most recent call last)",
      "Cell \u001b[1;32mIn[12], line 1\u001b[0m\n\u001b[1;32m----> 1\u001b[0m df_top7 \u001b[38;5;241m=\u001b[39m df[\u001b[38;5;124m'\u001b[39m\u001b[38;5;124mfrom\u001b[39m\u001b[38;5;124m'\u001b[39m]\u001b[38;5;241m.\u001b[39mvalue_counts()[\u001b[38;5;241m1\u001b[39m:\u001b[38;5;241m11\u001b[39m]\n\u001b[0;32m      2\u001b[0m sns\u001b[38;5;241m.\u001b[39mset_style(\u001b[38;5;124m'\u001b[39m\u001b[38;5;124mwhitegrid\u001b[39m\u001b[38;5;124m'\u001b[39m)\n\u001b[0;32m      3\u001b[0m plt\u001b[38;5;241m.\u001b[39mfigure(figsize\u001b[38;5;241m=\u001b[39m(\u001b[38;5;241m11\u001b[39m,\u001b[38;5;241m6\u001b[39m))\n",
      "\u001b[1;31mNameError\u001b[0m: name 'df' is not defined"
     ]
    }
   ],
   "source": [
    "df_top7 = df['from'].value_counts()[1:11]\n",
    "sns.set_style('whitegrid')\n",
    "plt.figure(figsize=(11,6))\n",
    "sns.barplot(x=df_top7, y=df_top7.index, palette='Blues_d')\n",
    "plt.xlabel('Number of Emails')\n",
    "plt.ylabel('Email Sender')\n",
    "plt.title('Top 10 Email Senders')\n",
    "plt.show()"
   ]
  },
  {
   "cell_type": "markdown",
   "metadata": {
    "id": "pEI-JomtJ7JG"
   },
   "source": [
    "### 4. Most common topics\n",
    "The content of the messages is unavailable; however, the subject of each message can clearly indicate the recurrent topics for both incoming and outgoing emails. which can be visualized in word cloud."
   ]
  },
  {
   "cell_type": "code",
   "execution_count": 13,
   "metadata": {
    "executionInfo": {
     "elapsed": 443,
     "status": "ok",
     "timestamp": 1710693900711,
     "user": {
      "displayName": "Krishnan Hariharan",
      "userId": "05337437693880879682"
     },
     "user_tz": -330
    },
    "id": "QK9Y510OdZzf"
   },
   "outputs": [
    {
     "ename": "NameError",
     "evalue": "name 'df' is not defined",
     "output_type": "error",
     "traceback": [
      "\u001b[1;31m---------------------------------------------------------------------------\u001b[0m",
      "\u001b[1;31mNameError\u001b[0m                                 Traceback (most recent call last)",
      "Cell \u001b[1;32mIn[13], line 2\u001b[0m\n\u001b[0;32m      1\u001b[0m all_wrds_in \u001b[38;5;241m=\u001b[39m []\n\u001b[1;32m----> 2\u001b[0m \u001b[38;5;28;01mfor\u001b[39;00m wrds \u001b[38;5;129;01min\u001b[39;00m \u001b[38;5;28mlist\u001b[39m(df[\u001b[38;5;124m'\u001b[39m\u001b[38;5;124msubject\u001b[39m\u001b[38;5;124m'\u001b[39m][df[\u001b[38;5;124m'\u001b[39m\u001b[38;5;124mto\u001b[39m\u001b[38;5;124m'\u001b[39m] \u001b[38;5;241m==\u001b[39m \u001b[38;5;124m'\u001b[39m\u001b[38;5;124mme\u001b[39m\u001b[38;5;124m'\u001b[39m]):\n\u001b[0;32m      3\u001b[0m     all_wrds_in\u001b[38;5;241m.\u001b[39mextend(\u001b[38;5;28mstr\u001b[39m(wrds)\u001b[38;5;241m.\u001b[39mlower()\u001b[38;5;241m.\u001b[39msplit())\n\u001b[0;32m      5\u001b[0m all_wrds_out \u001b[38;5;241m=\u001b[39m []\n",
      "\u001b[1;31mNameError\u001b[0m: name 'df' is not defined"
     ]
    }
   ],
   "source": [
    "all_wrds_in = []\n",
    "for wrds in list(df['subject'][df['to'] == 'me']):\n",
    "    all_wrds_in.extend(str(wrds).lower().split())\n",
    "\n",
    "all_wrds_out = []\n",
    "for wrds in list(df['subject'][df['from'] == 'me']):\n",
    "    all_wrds_out.extend(str(wrds).lower().split())"
   ]
  },
  {
   "cell_type": "code",
   "execution_count": 14,
   "metadata": {
    "colab": {
     "base_uri": "https://localhost:8080/"
    },
    "executionInfo": {
     "elapsed": 3,
     "status": "ok",
     "timestamp": 1710693902152,
     "user": {
      "displayName": "Krishnan Hariharan",
      "userId": "05337437693880879682"
     },
     "user_tz": -330
    },
    "id": "fYsYjH-_cZR8",
    "outputId": "147230a9-7892-49cb-d1f4-191b4c5e0b0f"
   },
   "outputs": [
    {
     "data": {
      "text/plain": [
       "[]"
      ]
     },
     "execution_count": 14,
     "metadata": {},
     "output_type": "execute_result"
    }
   ],
   "source": [
    "all_wrds_in[:6]"
   ]
  },
  {
   "cell_type": "code",
   "execution_count": 15,
   "metadata": {
    "executionInfo": {
     "elapsed": 501,
     "status": "ok",
     "timestamp": 1710693945130,
     "user": {
      "displayName": "Krishnan Hariharan",
      "userId": "05337437693880879682"
     },
     "user_tz": -330
    },
    "id": "psedEDRiKDJD"
   },
   "outputs": [],
   "source": [
    "my_stopwords = ['re:', 'nan', 'none', '-', 'fwd:', 'fw:',\n",
    "                '&', 'hola', 'saludos', 'order', 'amazon.com']"
   ]
  },
  {
   "cell_type": "code",
   "execution_count": 16,
   "metadata": {
    "colab": {
     "base_uri": "https://localhost:8080/"
    },
    "executionInfo": {
     "elapsed": 1319,
     "status": "ok",
     "timestamp": 1710693947678,
     "user": {
      "displayName": "Krishnan Hariharan",
      "userId": "05337437693880879682"
     },
     "user_tz": -330
    },
    "id": "SlOtXv7WKqF7",
    "outputId": "4ffe57d9-24e7-4731-dd74-ee878c0bd35b"
   },
   "outputs": [
    {
     "name": "stderr",
     "output_type": "stream",
     "text": [
      "[nltk_data] Error loading stopwords: <urlopen error [WinError 10054]\n",
      "[nltk_data]     An existing connection was forcibly closed by the\n",
      "[nltk_data]     remote host>\n"
     ]
    },
    {
     "data": {
      "text/plain": [
       "False"
      ]
     },
     "execution_count": 16,
     "metadata": {},
     "output_type": "execute_result"
    }
   ],
   "source": [
    "import nltk\n",
    "nltk.download('stopwords')"
   ]
  },
  {
   "cell_type": "code",
   "execution_count": 17,
   "metadata": {
    "executionInfo": {
     "elapsed": 2,
     "status": "ok",
     "timestamp": 1710693949256,
     "user": {
      "displayName": "Krishnan Hariharan",
      "userId": "05337437693880879682"
     },
     "user_tz": -330
    },
    "id": "KtNTzPN2KDGC"
   },
   "outputs": [],
   "source": [
    "from nltk.corpus import stopwords\n",
    "stopwords_en = set(stopwords.words('english'))\n",
    "all_stopwords = stopwords_en | set(my_stopwords)"
   ]
  },
  {
   "cell_type": "code",
   "execution_count": 18,
   "metadata": {
    "colab": {
     "base_uri": "https://localhost:8080/"
    },
    "executionInfo": {
     "elapsed": 436,
     "status": "ok",
     "timestamp": 1710693951895,
     "user": {
      "displayName": "Krishnan Hariharan",
      "userId": "05337437693880879682"
     },
     "user_tz": -330
    },
    "id": "UZqgaYXZKwax",
    "outputId": "df336fec-a1ec-4c5f-fa0c-27a48bbb082a"
   },
   "outputs": [
    {
     "ename": "NameError",
     "evalue": "name 'all_wrds_out' is not defined",
     "output_type": "error",
     "traceback": [
      "\u001b[1;31m---------------------------------------------------------------------------\u001b[0m",
      "\u001b[1;31mNameError\u001b[0m                                 Traceback (most recent call last)",
      "Cell \u001b[1;32mIn[18], line 1\u001b[0m\n\u001b[1;32m----> 1\u001b[0m \u001b[38;5;28mlen\u001b[39m(all_wrds_in), \u001b[38;5;28mlen\u001b[39m(all_wrds_out)\n",
      "\u001b[1;31mNameError\u001b[0m: name 'all_wrds_out' is not defined"
     ]
    }
   ],
   "source": [
    "len(all_wrds_in), len(all_wrds_out)"
   ]
  },
  {
   "cell_type": "code",
   "execution_count": null,
   "metadata": {
    "executionInfo": {
     "elapsed": 425,
     "status": "ok",
     "timestamp": 1710693958561,
     "user": {
      "displayName": "Krishnan Hariharan",
      "userId": "05337437693880879682"
     },
     "user_tz": -330
    },
    "id": "JQjipBGgKv45"
   },
   "outputs": [],
   "source": [
    "all_wrds_in = [wrd for wrd in all_wrds_in if wrd not in all_stopwords]\n",
    "all_wrds_out = [wrd for wrd in all_wrds_out if wrd not in all_stopwords]"
   ]
  },
  {
   "cell_type": "code",
   "execution_count": null,
   "metadata": {
    "colab": {
     "base_uri": "https://localhost:8080/"
    },
    "executionInfo": {
     "elapsed": 583,
     "status": "ok",
     "timestamp": 1710693960891,
     "user": {
      "displayName": "Krishnan Hariharan",
      "userId": "05337437693880879682"
     },
     "user_tz": -330
    },
    "id": "QnFM5MOFK1kt",
    "outputId": "f297fbad-a832-4394-ed26-3952a2cedd7d"
   },
   "outputs": [],
   "source": [
    "len(all_wrds_in), len(all_wrds_out)"
   ]
  },
  {
   "cell_type": "code",
   "execution_count": null,
   "metadata": {
    "executionInfo": {
     "elapsed": 5,
     "status": "ok",
     "timestamp": 1710693962583,
     "user": {
      "displayName": "Krishnan Hariharan",
      "userId": "05337437693880879682"
     },
     "user_tz": -330
    },
    "id": "hJbZVoYVK1W5"
   },
   "outputs": [],
   "source": [
    "wrds_in = Counter(all_wrds_in)\n",
    "wrds_out = Counter(all_wrds_out)"
   ]
  },
  {
   "cell_type": "code",
   "execution_count": null,
   "metadata": {
    "colab": {
     "base_uri": "https://localhost:8080/"
    },
    "executionInfo": {
     "elapsed": 456,
     "status": "ok",
     "timestamp": 1710693964998,
     "user": {
      "displayName": "Krishnan Hariharan",
      "userId": "05337437693880879682"
     },
     "user_tz": -330
    },
    "id": "TAQ2qV53K1Jv",
    "outputId": "09fce04b-ba62-415e-e256-1f42f6f7d574"
   },
   "outputs": [],
   "source": [
    "wrds_in.most_common(10)"
   ]
  },
  {
   "cell_type": "code",
   "execution_count": null,
   "metadata": {
    "colab": {
     "base_uri": "https://localhost:8080/"
    },
    "executionInfo": {
     "elapsed": 527,
     "status": "ok",
     "timestamp": 1710693976386,
     "user": {
      "displayName": "Krishnan Hariharan",
      "userId": "05337437693880879682"
     },
     "user_tz": -330
    },
    "id": "4sojThIVK0zN",
    "outputId": "e5fe6c22-937b-4bb4-ffbd-9809ed4dd925"
   },
   "outputs": [],
   "source": [
    "wrds_out.most_common(10)"
   ]
  },
  {
   "cell_type": "code",
   "execution_count": null,
   "metadata": {},
   "outputs": [],
   "source": [
    "pip install wordcloud"
   ]
  },
  {
   "cell_type": "code",
   "execution_count": null,
   "metadata": {
    "executionInfo": {
     "elapsed": 372,
     "status": "ok",
     "timestamp": 1710694000212,
     "user": {
      "displayName": "Krishnan Hariharan",
      "userId": "05337437693880879682"
     },
     "user_tz": -330
    },
    "id": "sS1w1yeOK_yU"
   },
   "outputs": [],
   "source": [
    "from wordcloud import WordCloud, STOPWORDS"
   ]
  },
  {
   "cell_type": "code",
   "execution_count": null,
   "metadata": {
    "executionInfo": {
     "elapsed": 741,
     "status": "ok",
     "timestamp": 1710694002715,
     "user": {
      "displayName": "Krishnan Hariharan",
      "userId": "05337437693880879682"
     },
     "user_tz": -330
    },
    "id": "dWxA7mfAK_vD"
   },
   "outputs": [],
   "source": [
    "words_in = ''\n",
    "for t in wrds_in.most_common(150):\n",
    "    for i in range(t[1]):\n",
    "        words_in += t[0] + ' '\n",
    "\n",
    "words_out = ''\n",
    "for t in wrds_out.most_common(150):\n",
    "    for i in range(t[1]):\n",
    "        words_out += t[0] + ' '"
   ]
  },
  {
   "cell_type": "markdown",
   "metadata": {
    "id": "KBonxUOzLxVD"
   },
   "source": [
    "# **Word cloud of incoming mails**"
   ]
  },
  {
   "cell_type": "code",
   "execution_count": null,
   "metadata": {
    "colab": {
     "base_uri": "https://localhost:8080/",
     "height": 820
    },
    "executionInfo": {
     "elapsed": 5497,
     "status": "ok",
     "timestamp": 1710694009937,
     "user": {
      "displayName": "Krishnan Hariharan",
      "userId": "05337437693880879682"
     },
     "user_tz": -330
    },
    "id": "kKKeMVIFK_pg",
    "outputId": "937458e1-3f15-47c6-e1ec-43bb847bc492"
   },
   "outputs": [],
   "source": [
    "wordcloud_in = WordCloud(stopwords=STOPWORDS,\n",
    "                      background_color='black',\n",
    "                      width=1350, height=800,\n",
    "                      collocations=False\n",
    "                     ).generate(words_in)\n",
    "plt.figure(figsize=(20,10))\n",
    "plt.imshow(wordcloud_in)\n",
    "plt.axis('off')\n",
    "plt.title('WordCloud: incoming emails');"
   ]
  },
  {
   "cell_type": "markdown",
   "metadata": {
    "id": "rzr8DixZLf7l"
   },
   "source": [
    "# **Word cloud of outgoing mails**"
   ]
  },
  {
   "cell_type": "code",
   "execution_count": null,
   "metadata": {
    "colab": {
     "base_uri": "https://localhost:8080/",
     "height": 820
    },
    "executionInfo": {
     "elapsed": 10229,
     "status": "ok",
     "timestamp": 1710694040560,
     "user": {
      "displayName": "Krishnan Hariharan",
      "userId": "05337437693880879682"
     },
     "user_tz": -330
    },
    "id": "dMNR-pWNK_ky",
    "outputId": "b13c7fe3-66fe-4c0d-e9e8-6973a41228be"
   },
   "outputs": [],
   "source": [
    "wordcloud_out = WordCloud(stopwords=STOPWORDS,\n",
    "                      background_color='white',\n",
    "                      width=1350, height=800,\n",
    "                      collocations=False\n",
    "                     ).generate(words_out)\n",
    "plt.figure(figsize=(20,10))\n",
    "plt.imshow(wordcloud_out)\n",
    "plt.axis('off')\n",
    "plt.title('WordCloud: outgoing emails');"
   ]
  },
  {
   "cell_type": "code",
   "execution_count": null,
   "metadata": {
    "id": "yRkMGwEVT7CE"
   },
   "outputs": [],
   "source": []
  },
  {
   "cell_type": "code",
   "execution_count": null,
   "metadata": {},
   "outputs": [],
   "source": []
  },
  {
   "cell_type": "code",
   "execution_count": null,
   "metadata": {},
   "outputs": [],
   "source": []
  },
  {
   "cell_type": "code",
   "execution_count": null,
   "metadata": {},
   "outputs": [],
   "source": []
  },
  {
   "cell_type": "code",
   "execution_count": null,
   "metadata": {},
   "outputs": [],
   "source": []
  }
 ],
 "metadata": {
  "colab": {
   "provenance": []
  },
  "kernelspec": {
   "display_name": "Python 3 (ipykernel)",
   "language": "python",
   "name": "python3"
  },
  "language_info": {
   "codemirror_mode": {
    "name": "ipython",
    "version": 3
   },
   "file_extension": ".py",
   "mimetype": "text/x-python",
   "name": "python",
   "nbconvert_exporter": "python",
   "pygments_lexer": "ipython3",
   "version": "3.10.9"
  }
 },
 "nbformat": 4,
 "nbformat_minor": 1
}
