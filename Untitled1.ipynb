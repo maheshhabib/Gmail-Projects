{
 "cells": [
  {
   "cell_type": "code",
   "execution_count": 2,
   "id": "2985727c",
   "metadata": {},
   "outputs": [
    {
     "name": "stdout",
     "output_type": "stream",
     "text": [
      "Collecting yfinance\n",
      "  Downloading yfinance-0.2.37-py2.py3-none-any.whl (72 kB)\n",
      "     ---------------------------------------- 73.0/73.0 kB 1.3 MB/s eta 0:00:00\n",
      "Requirement already satisfied: statsmodels in c:\\users\\shilpa habib\\anaconda3\\lib\\site-packages (0.13.5)\n",
      "Requirement already satisfied: scikit-learn in c:\\users\\shilpa habib\\anaconda3\\lib\\site-packages (1.2.1)\n",
      "Requirement already satisfied: matplotlib in c:\\users\\shilpa habib\\anaconda3\\lib\\site-packages (3.7.0)\n",
      "Requirement already satisfied: lxml>=4.9.1 in c:\\users\\shilpa habib\\anaconda3\\lib\\site-packages (from yfinance) (4.9.1)\n",
      "Requirement already satisfied: pandas>=1.3.0 in c:\\users\\shilpa habib\\anaconda3\\lib\\site-packages (from yfinance) (1.5.3)\n",
      "Requirement already satisfied: numpy>=1.16.5 in c:\\users\\shilpa habib\\anaconda3\\lib\\site-packages (from yfinance) (1.23.5)\n",
      "Requirement already satisfied: pytz>=2022.5 in c:\\users\\shilpa habib\\anaconda3\\lib\\site-packages (from yfinance) (2022.7)\n",
      "Collecting frozendict>=2.3.4\n",
      "  Downloading frozendict-2.4.0-cp310-cp310-win_amd64.whl (36 kB)\n",
      "Collecting requests>=2.31\n",
      "  Downloading requests-2.31.0-py3-none-any.whl (62 kB)\n",
      "     ---------------------------------------- 62.6/62.6 kB ? eta 0:00:00\n",
      "Collecting peewee>=3.16.2\n",
      "  Downloading peewee-3.17.1.tar.gz (3.0 MB)\n",
      "     ---------------------------------------- 3.0/3.0 MB 12.5 MB/s eta 0:00:00\n",
      "  Installing build dependencies: started\n",
      "  Installing build dependencies: finished with status 'done'\n",
      "  Getting requirements to build wheel: started\n",
      "  Getting requirements to build wheel: finished with status 'done'\n",
      "  Preparing metadata (pyproject.toml): started\n",
      "  Preparing metadata (pyproject.toml): finished with status 'done'\n",
      "Collecting html5lib>=1.1\n",
      "  Downloading html5lib-1.1-py2.py3-none-any.whl (112 kB)\n",
      "     -------------------------------------- 112.2/112.2 kB 3.3 MB/s eta 0:00:00\n",
      "Collecting multitasking>=0.0.7\n",
      "  Downloading multitasking-0.0.11-py3-none-any.whl (8.5 kB)\n",
      "Requirement already satisfied: beautifulsoup4>=4.11.1 in c:\\users\\shilpa habib\\anaconda3\\lib\\site-packages (from yfinance) (4.11.1)\n",
      "Requirement already satisfied: appdirs>=1.4.4 in c:\\users\\shilpa habib\\anaconda3\\lib\\site-packages (from yfinance) (1.4.4)\n",
      "Requirement already satisfied: scipy>=1.3 in c:\\users\\shilpa habib\\anaconda3\\lib\\site-packages (from statsmodels) (1.10.0)\n",
      "Requirement already satisfied: packaging>=21.3 in c:\\users\\shilpa habib\\anaconda3\\lib\\site-packages (from statsmodels) (22.0)\n",
      "Requirement already satisfied: patsy>=0.5.2 in c:\\users\\shilpa habib\\anaconda3\\lib\\site-packages (from statsmodels) (0.5.3)\n",
      "Requirement already satisfied: threadpoolctl>=2.0.0 in c:\\users\\shilpa habib\\anaconda3\\lib\\site-packages (from scikit-learn) (2.2.0)\n",
      "Requirement already satisfied: joblib>=1.1.1 in c:\\users\\shilpa habib\\anaconda3\\lib\\site-packages (from scikit-learn) (1.1.1)\n",
      "Requirement already satisfied: kiwisolver>=1.0.1 in c:\\users\\shilpa habib\\anaconda3\\lib\\site-packages (from matplotlib) (1.4.4)\n",
      "Requirement already satisfied: cycler>=0.10 in c:\\users\\shilpa habib\\anaconda3\\lib\\site-packages (from matplotlib) (0.11.0)\n",
      "Requirement already satisfied: contourpy>=1.0.1 in c:\\users\\shilpa habib\\anaconda3\\lib\\site-packages (from matplotlib) (1.0.5)\n",
      "Requirement already satisfied: fonttools>=4.22.0 in c:\\users\\shilpa habib\\anaconda3\\lib\\site-packages (from matplotlib) (4.25.0)\n",
      "Requirement already satisfied: python-dateutil>=2.7 in c:\\users\\shilpa habib\\anaconda3\\lib\\site-packages (from matplotlib) (2.8.2)\n",
      "Requirement already satisfied: pillow>=6.2.0 in c:\\users\\shilpa habib\\anaconda3\\lib\\site-packages (from matplotlib) (9.4.0)\n",
      "Requirement already satisfied: pyparsing>=2.3.1 in c:\\users\\shilpa habib\\anaconda3\\lib\\site-packages (from matplotlib) (3.0.9)\n",
      "Requirement already satisfied: soupsieve>1.2 in c:\\users\\shilpa habib\\anaconda3\\lib\\site-packages (from beautifulsoup4>=4.11.1->yfinance) (2.3.2.post1)\n",
      "Requirement already satisfied: six>=1.9 in c:\\users\\shilpa habib\\anaconda3\\lib\\site-packages (from html5lib>=1.1->yfinance) (1.16.0)\n",
      "Requirement already satisfied: webencodings in c:\\users\\shilpa habib\\anaconda3\\lib\\site-packages (from html5lib>=1.1->yfinance) (0.5.1)\n",
      "Requirement already satisfied: idna<4,>=2.5 in c:\\users\\shilpa habib\\anaconda3\\lib\\site-packages (from requests>=2.31->yfinance) (3.4)\n",
      "Requirement already satisfied: certifi>=2017.4.17 in c:\\users\\shilpa habib\\anaconda3\\lib\\site-packages (from requests>=2.31->yfinance) (2022.12.7)\n",
      "Requirement already satisfied: charset-normalizer<4,>=2 in c:\\users\\shilpa habib\\anaconda3\\lib\\site-packages (from requests>=2.31->yfinance) (2.0.4)\n",
      "Requirement already satisfied: urllib3<3,>=1.21.1 in c:\\users\\shilpa habib\\anaconda3\\lib\\site-packages (from requests>=2.31->yfinance) (1.26.14)\n",
      "Building wheels for collected packages: peewee\n",
      "  Building wheel for peewee (pyproject.toml): started\n",
      "  Building wheel for peewee (pyproject.toml): finished with status 'done'\n",
      "  Created wheel for peewee: filename=peewee-3.17.1-py3-none-any.whl size=136948 sha256=2a44b763cc064cbb6ab1b0de6d8e43607e2c991a511040b40815ecbc988ad13a\n",
      "  Stored in directory: c:\\users\\shilpa habib\\appdata\\local\\pip\\cache\\wheels\\f3\\60\\5b\\41a9bbd32037a7211f550249f5dc798e55c20d42c49deeaf25\n",
      "Successfully built peewee\n",
      "Installing collected packages: peewee, multitasking, requests, html5lib, frozendict, yfinance\n",
      "  Attempting uninstall: requests\n",
      "    Found existing installation: requests 2.28.1\n",
      "    Uninstalling requests-2.28.1:\n",
      "      Successfully uninstalled requests-2.28.1\n",
      "Successfully installed frozendict-2.4.0 html5lib-1.1 multitasking-0.0.11 peewee-3.17.1 requests-2.31.0 yfinance-0.2.37\n",
      "Note: you may need to restart the kernel to use updated packages.\n"
     ]
    },
    {
     "name": "stderr",
     "output_type": "stream",
     "text": [
      "ERROR: pip's dependency resolver does not currently take into account all the packages that are installed. This behaviour is the source of the following dependency conflicts.\n",
      "conda-repo-cli 1.0.41 requires requests_mock, which is not installed.\n",
      "conda-repo-cli 1.0.41 requires clyent==1.2.1, but you have clyent 1.2.2 which is incompatible.\n",
      "conda-repo-cli 1.0.41 requires nbformat==5.4.0, but you have nbformat 5.7.0 which is incompatible.\n",
      "conda-repo-cli 1.0.41 requires requests==2.28.1, but you have requests 2.31.0 which is incompatible.\n"
     ]
    }
   ],
   "source": [
    "pip install yfinance statsmodels scikit-learn matplotlib"
   ]
  },
  {
   "cell_type": "code",
   "execution_count": 3,
   "id": "903ba606",
   "metadata": {},
   "outputs": [],
   "source": [
    "import numpy as np\n",
    "import pandas as pd\n",
    "import yfinance as yf\n",
    "from statsmodels.tsa.arima.model import ARIMA\n",
    "from statsmodels.tsa.seasonal import seasonal_decompose  # Added import\n",
    "from sklearn.metrics import mean_squared_error\n",
    "import matplotlib.pyplot as plt"
   ]
  },
  {
   "cell_type": "code",
   "execution_count": 4,
   "id": "0043246a",
   "metadata": {},
   "outputs": [],
   "source": [
    "# Function to get stock data from Yahoo Finance\n",
    "def get_stock_data(ticker, start_date, end_date):\n",
    "    stock_data = yf.download(ticker, start=start_date, end=end_date)\n",
    "    return stock_data['Adj Close']\n",
    "\n",
    "# Function to fit ARIMA model and make predictions\n",
    "def fit_arima_model(data, order):\n",
    "    model = ARIMA(data, order=order)\n",
    "    model_fit = model.fit()\n",
    "    return model_fit\n",
    "\n",
    "# Function to generate future predictions\n",
    "def forecast_future_prices(model_fit, steps):\n",
    "    forecast = model_fit.forecast(steps=steps)\n",
    "    return forecast\n",
    "\n",
    "# Function to plot historical and forecasted prices\n",
    "def plot_prices(data, forecast, ticker):\n",
    "    plt.figure(figsize=(10, 6))\n",
    "    plt.plot(data, label='Historical Prices')\n",
    "    plt.plot(range(len(data), len(data) + len(forecast)), forecast, color='red', label='Forecasted Prices')\n",
    "    plt.title(f'Stock Price Forecast for {ticker}')\n",
    "    plt.xlabel('Days')\n",
    "    plt.ylabel('Price')\n",
    "    plt.legend()\n",
    "    plt.show()\n",
    "\n",
    "# Function to decompose and plot time series components\n",
    "def plot_decomposition(data, ticker):\n",
    "    decomposition = seasonal_decompose(data, model='multiplicative', period=30)  # Adjust period as needed\n",
    "    fig, axes = plt.subplots(4, 1, figsize=(10, 8))\n",
    "    axes[0].plot(data, label='Original')\n",
    "    axes[0].legend(loc='upper left')\n",
    "    axes[1].plot(decomposition.trend, label='Trend')\n",
    "    axes[1].legend(loc='upper left')\n",
    "    axes[2].plot(decomposition.seasonal, label='Seasonality')\n",
    "    axes[2].legend(loc='upper left')\n",
    "    axes[3].plot(decomposition.resid, label='Residuals')\n",
    "    axes[3].legend(loc='upper left')\n",
    "    plt.suptitle(f'Time Series Decomposition for {ticker}')\n",
    "    plt.show()\n",
    "\n",
    "# Main function\n",
    "def main():\n",
    "    ticker = input(\"Enter the stock ticker symbol (e.g., AAPL): \").upper()\n",
    "    start_date = input(\"Enter the start date in YYYY-MM-DD format: \")\n",
    "    end_date = input(\"Enter the end date in YYYY-MM-DD format: \")\n",
    "    order = input(\"Enter the ARIMA order (e.g., 5,1,0): \").split(',')\n",
    "    order = tuple(map(int, order))\n",
    "    forecast_period = int(input(\"Enter the number of days to forecast: \"))\n",
    "    risk_free_return = float(input(\"Enter the risk-free return (as a decimal): \"))  # Added input\n",
    "\n",
    "    # Get stock data\n",
    "    stock_data = get_stock_data(ticker, start_date, end_date)\n",
    "\n",
    "    # Plot time series decomposition\n",
    "    plot_decomposition(stock_data, ticker)\n"
   ]
  },
  {
   "cell_type": "code",
   "execution_count": 6,
   "id": "0c82d8f1",
   "metadata": {},
   "outputs": [
    {
     "ename": "IndentationError",
     "evalue": "unexpected indent (2959011611.py, line 2)",
     "output_type": "error",
     "traceback": [
      "\u001b[1;36m  Cell \u001b[1;32mIn[6], line 2\u001b[1;36m\u001b[0m\n\u001b[1;33m    model_fit = arima_model(stock_data, order)\u001b[0m\n\u001b[1;37m    ^\u001b[0m\n\u001b[1;31mIndentationError\u001b[0m\u001b[1;31m:\u001b[0m unexpected indent\n"
     ]
    }
   ],
   "source": [
    "# Fit ARIMA model\n",
    "    model_fit = arima_model(stock_data, order)\n",
    "\n",
    "    # Make predictions\n",
    "    forecast = forecast_future_prices(model_fit, forecast_period)\n",
    "\n",
    "    # Plot historical and forecasted prices\n",
    "    plot_prices(stock_data, forecast, ticker)\n",
    "\n",
    "    # Print the forecasted prices\n",
    "    print(\"\\nForecasted Prices for the next month:\")\n",
    "    print(forecast)"
   ]
  },
  {
   "cell_type": "code",
   "execution_count": null,
   "id": "82362c96",
   "metadata": {},
   "outputs": [],
   "source": []
  }
 ],
 "metadata": {
  "kernelspec": {
   "display_name": "Python 3 (ipykernel)",
   "language": "python",
   "name": "python3"
  },
  "language_info": {
   "codemirror_mode": {
    "name": "ipython",
    "version": 3
   },
   "file_extension": ".py",
   "mimetype": "text/x-python",
   "name": "python",
   "nbconvert_exporter": "python",
   "pygments_lexer": "ipython3",
   "version": "3.10.9"
  }
 },
 "nbformat": 4,
 "nbformat_minor": 5
}
